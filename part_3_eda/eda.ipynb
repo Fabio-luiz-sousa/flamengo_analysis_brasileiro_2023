{
 "cells": [
  {
   "cell_type": "markdown",
   "metadata": {},
   "source": [
    "# Análise Exploratória dos dados do time do Flamengo no Brasileirão 2023"
   ]
  },
  {
   "cell_type": "markdown",
   "metadata": {},
   "source": [
    "![imagem](https://images.unsplash.com/photo-1635637015046-5a7aef2d591e?q=80&w=1472&auto=format&fit=crop&ixlib=rb-4.0.3&ixid=M3wxMjA3fDB8MHxwaG90by1wYWdlfHx8fGVufDB8fHx8fA%3D%3D)"
   ]
  },
  {
   "cell_type": "markdown",
   "metadata": {},
   "source": [
    "Esta é a parte III desse projeto sobre a análise do Flamengo no Brasileirão 2023.   \n",
    "A parte I, obtenção dos dados, você pode conferir [aqui.](https://fabio-luiz-sousa.github.io/projetos/eda_flamengo/EDA_flamengo_part1)   \n",
    "A parte II, tratamento e limpeza geral nos dados, você pode conferir [aqui]()  \n",
    "\n",
    "Eu me propus a fazer esse projeto pois como flamenguista que sou, quis saber qual foi o desempenho do mengão no brasileiro de 2023 através dos dados e também para praticar alguns conceitos que venho estudando.\n"
   ]
  },
  {
   "cell_type": "markdown",
   "metadata": {},
   "source": [
    "## Sobre o Dataset"
   ]
  },
  {
   "cell_type": "markdown",
   "metadata": {},
   "source": [
    "O dataset foi obtido através de um webscrapping utilizando o Selenium e na leitura das súmulas em pdf utilizando o pdfplumber. Mais detalhes da obetenção do dataset, vocẽ encontra na parte I desse ptojeto [aqui](https://fabio-luiz-sousa.github.io/projetos/eda_flamengo/EDA_flamengo_part1)"
   ]
  },
  {
   "cell_type": "markdown",
   "metadata": {},
   "source": [
    "## Estrutura do Dataset"
   ]
  },
  {
   "cell_type": "markdown",
   "metadata": {},
   "source": [
    "O dataset possui algumas estatísticas, informações do flamengo no brasileiro de 2023. Possui as seguintes colunas:\n",
    "- `rodada`: número da rodada.\n",
    "- `time_casa`: nome do time da casa.\n",
    "- `placar_time_casa`: placar final do time da casa.\n",
    "- `tecnico_time_casa`: nome do técnico do time da casa.\n",
    "- `capitao_time_casa`: nome do capitão do time da casa.\n",
    "- `time_visitante`: nome do time visitante.\n",
    "- `placar_time_visitante`: placar final do time visitante.\n",
    "- `tecnico_time_visitante`: nome do técnico do time visitante.\n",
    "- `capitao_time_visitante`: nome do capitão do time visitante.\n",
    "- `data_horario_jogo`: data e horário (horário de Brasília) da partida.\n",
    "- `dia_da_semana`: dia da semana que ocorreu o jogo.\n",
    "- `estadio_jogo`: nome do estádio aomde ocorreu o jogo.\n",
    "- `arbitro_jogo`: nome do ábitro da partida.\n",
    "- `var_jogo`: nome do árbitro do var da partida.\n",
    "- `gols_jogo`: dicionaŕio contendo o nome do jogador que fez o gol e o minuto do gol.\n",
    "- `publico_jogo`: publico total da partida.\n",
    "- `renda_jogo`: renda total da partida.\n",
    "- `posse_time_casa`: porcentagem de posse de bola do time da casa.\n",
    "- `posse_time_visitante`: porcentagem de posse de bola do time visitante.\n",
    "- `quant_total_passes_time_casa`: quantidade total de passes na partida do time da casa.\n",
    "- `quant_passes_certos_time_casa`: quantidade de passes certos na partida do time da casa.\n",
    "- `por_passes_certos_time_casa`: porcentagem de passes certos do time da casa.\n",
    "- `quant_total_passes_time_visitante`: quantidade total de passes na partida do time visitante.\n",
    "- `quant_passes_certos_time_visitante`: quantidade de passes certos na partida do time visitante.\n",
    "- `por_passes_certos_time_visitante`: porcentagem de passes certos do time visitante.\n",
    "- `quant_total_chutes_time_casa`: quantidade total de chutes do time da casa.\n",
    "- `quant_chutes_certos_time_casa`: quantidade de chutes certos do time da casa.\n",
    "- `por_chutes_certos_time_casa`: porcentagem de chutes certos do time da casa.\n",
    "- `quant_total_chutes_time_visitante`: quantidade total de chutes do time visitante.\n",
    "- `quant_chutes_certos_time_visitante`: quantidade de chutes certos do time visitante.\n",
    "- `por_chutes_certos_time_visitante`: porcentagem de chutes certos do time visitante.\n",
    "- `quant_total_desefas_goleiro_time_casa`: quantidade total de defesas do goleiro do time da casa.\n",
    "- `quant_desefas_certas_goleiro_time_casa`: quantidade de defesas certas do goleiro do time da casa.\n",
    "- `por_desefas_certas_goleiro_time_casa`: porcentagem de defesas certas do goleiro do time da casa.\n",
    "- `quant_total_defesas_goleiro_time_visitante`: quantidade total de defesas do goleiro do time visitante.\n",
    "- `quant_defesas_certas_goleiro_time_visitante`: quantidade de defesas certas do goleiro do time visitante.\n",
    "- `por_defesas_certas_goleiro_time_visitante`: porcentagem de defesas certas do goleiro do time visitante.\n",
    "- `quant_faltas_time_casa`: quantidade de faltas do time da casa.\n",
    "- `quant_faltas_time_visitante`: quantidade de faltas do time visitante.\n",
    "- `quant_escanteios_time_casa`: quantidade de escanteios do time da casa.\n",
    "- `quant_escanteios_time_visitante`: quantidade de escanteios do time visitante.\n",
    "- `quant_cruzamentos_time_casa`: quantidade de cruzamentos do time da casa.\n",
    "- `quant_cruzamentos_time_visitante`: quantidade de cruzamentos do time visitante.\n",
    "- `quant_contatos_time_casa`: quantidade de contatos do time da casa.\n",
    "- `quant_contatos_time_visitante`: quantidade de contatos do time visitante.\n",
    "- `quant_bote_defensivo_time_casa`: quantidade de bote defensivo do time da casa.\n",
    "- `quant_bote_defensivo_time_visitante`: quantidade de bote defensivo do time visitante.\n",
    "- `quant_cortes_time_casa`: quantidade de cortes do time da casa.\n",
    "- `quant_cortes_time_visitante`: quantidade de coster do time visitante.\n",
    "- `quant_jogada_aereas_time_casa`: quantidade de jogadas aéreas do time da casa\n",
    "- `quant_jogada_aereas_time_visitante`: quantidade de jogadas aéreas do time visitante\n",
    "- `quant_defesas_time_casa`: quantidade de defesas time da casa.\n",
    "- `quant_defesas_time_visitante`: quantidade de defesas time visitante.\n",
    "- `quant_impedimentos_time_casa`: quantidade de impedimentos do time da casa.\n",
    "- `quant_impedimentos_time_visitante`: quantidade de impedimentos do time visitante.\n",
    "- `quant_tiros_meta_time_casa`: quantidade de tiros de meta do time da casa.\n",
    "- `quant_tiros_meta_time_visitante`: quantidade de tiros de meta do time visitante.\n",
    "- `quant_cobranca_lateral_time_casa`: quantidade de cobrança de lateral do time da casa.\n",
    "- `quant_cobranca_lateral_time_visitante`: quantidade de cobrança de lateral do time da casa.\n",
    "- `quant_bolas_longas_time_casa`: quantidade de bolas longas do time da casa.\n",
    "- `quant_bolas_longas_time_visitante`: quantidade de bolas longas time visitante.\n",
    "- `escalacao_jogo`: escalação do time do flamengo em cada partida.\n",
    "- `info_cartoes_amarelos`: dicionário contendo as informações dos cartões amarelos como o minuto do cartão, em qual tempo ocorreu  o nome do jogador amarelado, o time do jogador amarelado  e o motivo do cartão.\n",
    "- `info_cartoes_vermelhos`: dicionário contendo as informações dos cartões vermelhos como o minuto do cartão, em qual tempo ocorreu,  o nome do jogador expulso, o time do jogador expulso, se for vermelho direto ou segundo amarelo e o motivo do cartão.\n",
    "- `info_substituicoes`: dicionário que contém as informações das substituições como o minuto da substituição, em qual tempo ocorreu, o time dos jogadores substituídos, e o nome dos jogadores substituídos. O nome dos jogadores então em uma tupla, o primeiro nome é o jogador que entrou, o segundo nome o jogador que saiu."
   ]
  },
  {
   "cell_type": "code",
   "execution_count": 29,
   "metadata": {},
   "outputs": [],
   "source": [
    "# importando as bibliotecas\n",
    "import pandas as pd\n",
    "import numpy as np\n",
    "import plotly.express as px\n",
    "import plotly.graph_objects as go\n",
    "from plotly.subplots import make_subplots\n",
    "\n",
    "# opção para mostrar todas as colunas do data set\n",
    "pd.set_option('display.max_columns', None)"
   ]
  },
  {
   "cell_type": "code",
   "execution_count": 30,
   "metadata": {},
   "outputs": [],
   "source": [
    "#carregando o conjunto de dados\n",
    "df_flamengo = pd.read_csv('/run/media/fabiol/arqs_linux/Ciencia_de_dados/projetos_analise_exploratoria/flamengo_analysis/src_final/estatisticas_flamengo_brasileiro_2023_tratado.csv',sep=',',parse_dates=['data_horario_jogo'])"
   ]
  },
  {
   "cell_type": "markdown",
   "metadata": {},
   "source": [
    "Coloquei o parametro parse_dates para ler a coluna data_horario_jogo no tipo correto que é datetime."
   ]
  },
  {
   "cell_type": "code",
   "execution_count": 31,
   "metadata": {},
   "outputs": [
    {
     "data": {
      "text/html": [
       "<div>\n",
       "<style scoped>\n",
       "    .dataframe tbody tr th:only-of-type {\n",
       "        vertical-align: middle;\n",
       "    }\n",
       "\n",
       "    .dataframe tbody tr th {\n",
       "        vertical-align: top;\n",
       "    }\n",
       "\n",
       "    .dataframe thead th {\n",
       "        text-align: right;\n",
       "    }\n",
       "</style>\n",
       "<table border=\"1\" class=\"dataframe\">\n",
       "  <thead>\n",
       "    <tr style=\"text-align: right;\">\n",
       "      <th></th>\n",
       "      <th>rodada</th>\n",
       "      <th>time_casa</th>\n",
       "      <th>placar_time_casa</th>\n",
       "      <th>tecnico_time_casa</th>\n",
       "      <th>capitao_time_casa</th>\n",
       "      <th>time_visitante</th>\n",
       "      <th>placar_time_visitante</th>\n",
       "      <th>tecnico_time_visitante</th>\n",
       "      <th>capitao_time_visitante</th>\n",
       "      <th>data_horario_jogo</th>\n",
       "      <th>dia_da_semana</th>\n",
       "      <th>estadio_jogo</th>\n",
       "      <th>arbitro_jogo</th>\n",
       "      <th>var_jogo</th>\n",
       "      <th>gols_jogo</th>\n",
       "      <th>publico_jogo</th>\n",
       "      <th>renda_jogo</th>\n",
       "      <th>posse_time_casa</th>\n",
       "      <th>posse_time_visitante</th>\n",
       "      <th>quant_total_passes_time_casa</th>\n",
       "      <th>quant_passes_certos_time_casa</th>\n",
       "      <th>por_passes_certos_time_casa</th>\n",
       "      <th>quant_total_passes_time_visitante</th>\n",
       "      <th>quant_passes_certos_time_visitante</th>\n",
       "      <th>por_passes_certos_time_visitante</th>\n",
       "      <th>quant_total_chutes_time_casa</th>\n",
       "      <th>quant_chutes_certos_time_casa</th>\n",
       "      <th>por_chutes_certos_time_casa</th>\n",
       "      <th>quant_total_chutes_time_visitante</th>\n",
       "      <th>quant_chutes_certos_time_visitante</th>\n",
       "      <th>por_chutes_certos_time_visitante</th>\n",
       "      <th>quant_total_desefas_goleiro_time_casa</th>\n",
       "      <th>quant_desefas_certas_goleiro_time_casa</th>\n",
       "      <th>por_desefas_certas_goleiro_time_casa</th>\n",
       "      <th>quant_total_defesas_goleiro_time_visitante</th>\n",
       "      <th>quant_defesas_certas_goleiro_time_visitante</th>\n",
       "      <th>por_defesas_certas_goleiro_time_visitante</th>\n",
       "      <th>quant_faltas_time_casa</th>\n",
       "      <th>quant_faltas_time_visitante</th>\n",
       "      <th>quant_escanteios_time_casa</th>\n",
       "      <th>quant_escanteios_time_visitante</th>\n",
       "      <th>quant_cruzamentos_time_casa</th>\n",
       "      <th>quant_cruzamentos_time_visitante</th>\n",
       "      <th>quant_contatos_time_casa</th>\n",
       "      <th>quant_contatos_time_visitante</th>\n",
       "      <th>quant_bote_defensivo_time_casa</th>\n",
       "      <th>quant_bote_defensivo_time_visitante</th>\n",
       "      <th>quant_cortes_time_casa</th>\n",
       "      <th>quant_cortes_time_visitante</th>\n",
       "      <th>quant_jogada_aereas_time_casa</th>\n",
       "      <th>quant_jogada_aereas_time_visitante</th>\n",
       "      <th>quant_defesas_time_casa</th>\n",
       "      <th>quant_defesas_time_visitante</th>\n",
       "      <th>quant_impedimentos_time_casa</th>\n",
       "      <th>quant_impedimentos_time_visitante</th>\n",
       "      <th>quant_tiros_meta_time_casa</th>\n",
       "      <th>quant_tiros_meta_time_visitante</th>\n",
       "      <th>quant_cobranca_lateral_time_casa</th>\n",
       "      <th>quant_cobranca_lateral_time_visitante</th>\n",
       "      <th>quant_bolas_longas_time_casa</th>\n",
       "      <th>quant_bolas_longas_time_visitante</th>\n",
       "      <th>escalacao_jogo</th>\n",
       "      <th>info_cartoes_amarelos</th>\n",
       "      <th>info_cartoes_vermelhos</th>\n",
       "      <th>info_substituicoes</th>\n",
       "    </tr>\n",
       "  </thead>\n",
       "  <tbody>\n",
       "    <tr>\n",
       "      <th>0</th>\n",
       "      <td>1</td>\n",
       "      <td>Flamengo</td>\n",
       "      <td>3</td>\n",
       "      <td>Mário Jorge</td>\n",
       "      <td>Everton Ribeiro</td>\n",
       "      <td>Coritiba</td>\n",
       "      <td>0</td>\n",
       "      <td>António Oliveira</td>\n",
       "      <td>Gabriel</td>\n",
       "      <td>2023-04-16 16:00:00</td>\n",
       "      <td>domingo</td>\n",
       "      <td>Estadio Jornalista Mário Filho / Rio de Janeiro</td>\n",
       "      <td>Rodrigo José Pereira de Lima</td>\n",
       "      <td>Daniel Nobre Bins</td>\n",
       "      <td>[{'jogador': ['Ayrton Lucas ', 'Gabriel Barbos...</td>\n",
       "      <td>43440</td>\n",
       "      <td>2486755.0</td>\n",
       "      <td>58</td>\n",
       "      <td>42</td>\n",
       "      <td>581</td>\n",
       "      <td>505</td>\n",
       "      <td>87.0</td>\n",
       "      <td>420</td>\n",
       "      <td>348</td>\n",
       "      <td>83.0</td>\n",
       "      <td>14</td>\n",
       "      <td>6</td>\n",
       "      <td>43.0</td>\n",
       "      <td>10</td>\n",
       "      <td>3</td>\n",
       "      <td>30.0</td>\n",
       "      <td>3</td>\n",
       "      <td>3</td>\n",
       "      <td>100.0</td>\n",
       "      <td>6</td>\n",
       "      <td>4</td>\n",
       "      <td>66.0</td>\n",
       "      <td>20</td>\n",
       "      <td>17</td>\n",
       "      <td>6</td>\n",
       "      <td>3</td>\n",
       "      <td>16</td>\n",
       "      <td>12</td>\n",
       "      <td>704</td>\n",
       "      <td>556</td>\n",
       "      <td>23</td>\n",
       "      <td>28</td>\n",
       "      <td>12</td>\n",
       "      <td>11</td>\n",
       "      <td>7</td>\n",
       "      <td>9</td>\n",
       "      <td>13</td>\n",
       "      <td>17</td>\n",
       "      <td>1</td>\n",
       "      <td>2</td>\n",
       "      <td>3</td>\n",
       "      <td>5</td>\n",
       "      <td>19</td>\n",
       "      <td>21</td>\n",
       "      <td>58</td>\n",
       "      <td>58</td>\n",
       "      <td>['1 Santos', '4 Léo Pereira', '6 Ayrton Lucas'...</td>\n",
       "      <td>[{'tempo_cartao_amarelo': \"['17:00', '35:00', ...</td>\n",
       "      <td>[{'tempo_cartao_vermelho': nan, '1T/2T_cartao_...</td>\n",
       "      <td>[{'tempo_substituicao': \"['05:00', '08:00', '0...</td>\n",
       "    </tr>\n",
       "    <tr>\n",
       "      <th>1</th>\n",
       "      <td>2</td>\n",
       "      <td>Internacional</td>\n",
       "      <td>2</td>\n",
       "      <td>Mano Menezes</td>\n",
       "      <td>Alan Patrick</td>\n",
       "      <td>Flamengo</td>\n",
       "      <td>1</td>\n",
       "      <td>Jorge Sampaoli</td>\n",
       "      <td>Everton Ribeiro</td>\n",
       "      <td>2023-04-23 11:00:00</td>\n",
       "      <td>domingo</td>\n",
       "      <td>Estádio José Pinheiro Borba / Porto Alegre</td>\n",
       "      <td>Ramon Abatti Abel</td>\n",
       "      <td>Rodolpho Toski</td>\n",
       "      <td>[{'jogador': ['Mauricio ', 'Mauricio ', 'Gerso...</td>\n",
       "      <td>45751</td>\n",
       "      <td>2446749.0</td>\n",
       "      <td>36</td>\n",
       "      <td>64</td>\n",
       "      <td>353</td>\n",
       "      <td>275</td>\n",
       "      <td>78.0</td>\n",
       "      <td>629</td>\n",
       "      <td>547</td>\n",
       "      <td>87.0</td>\n",
       "      <td>16</td>\n",
       "      <td>4</td>\n",
       "      <td>25.0</td>\n",
       "      <td>16</td>\n",
       "      <td>4</td>\n",
       "      <td>25.0</td>\n",
       "      <td>4</td>\n",
       "      <td>3</td>\n",
       "      <td>75.0</td>\n",
       "      <td>4</td>\n",
       "      <td>2</td>\n",
       "      <td>50.0</td>\n",
       "      <td>14</td>\n",
       "      <td>13</td>\n",
       "      <td>6</td>\n",
       "      <td>2</td>\n",
       "      <td>21</td>\n",
       "      <td>11</td>\n",
       "      <td>478</td>\n",
       "      <td>730</td>\n",
       "      <td>19</td>\n",
       "      <td>9</td>\n",
       "      <td>18</td>\n",
       "      <td>7</td>\n",
       "      <td>9</td>\n",
       "      <td>6</td>\n",
       "      <td>17</td>\n",
       "      <td>14</td>\n",
       "      <td>2</td>\n",
       "      <td>3</td>\n",
       "      <td>10</td>\n",
       "      <td>8</td>\n",
       "      <td>16</td>\n",
       "      <td>22</td>\n",
       "      <td>49</td>\n",
       "      <td>49</td>\n",
       "      <td>['1 Santos', '4 Léo Pereira', '6 Ayrton Lucas'...</td>\n",
       "      <td>[{'tempo_cartao_amarelo': \"['16:00', '29:00', ...</td>\n",
       "      <td>[{'tempo_cartao_vermelho': nan, '1T/2T_cartao_...</td>\n",
       "      <td>[{'tempo_substituicao': \"['20:00', '20:00', '2...</td>\n",
       "    </tr>\n",
       "    <tr>\n",
       "      <th>2</th>\n",
       "      <td>3</td>\n",
       "      <td>Flamengo</td>\n",
       "      <td>2</td>\n",
       "      <td>Jorge Sampaoli</td>\n",
       "      <td>Gabriel Barbosa</td>\n",
       "      <td>Botafogo (RJ)</td>\n",
       "      <td>3</td>\n",
       "      <td>Luís Castro</td>\n",
       "      <td>Fernando Marçal</td>\n",
       "      <td>2023-04-30 16:00:00</td>\n",
       "      <td>domingo</td>\n",
       "      <td>Estadio Jornalista Mário Filho / Rio de Janeiro</td>\n",
       "      <td>Edina Alves Batista</td>\n",
       "      <td>Daiane Muniz</td>\n",
       "      <td>[{'jogador': ['Léo Pereira ', 'Léo Pereira ', ...</td>\n",
       "      <td>53138</td>\n",
       "      <td>2880685.0</td>\n",
       "      <td>74</td>\n",
       "      <td>26</td>\n",
       "      <td>698</td>\n",
       "      <td>592</td>\n",
       "      <td>85.0</td>\n",
       "      <td>249</td>\n",
       "      <td>171</td>\n",
       "      <td>69.0</td>\n",
       "      <td>24</td>\n",
       "      <td>13</td>\n",
       "      <td>54.0</td>\n",
       "      <td>11</td>\n",
       "      <td>5</td>\n",
       "      <td>45.0</td>\n",
       "      <td>5</td>\n",
       "      <td>3</td>\n",
       "      <td>60.0</td>\n",
       "      <td>13</td>\n",
       "      <td>11</td>\n",
       "      <td>84.0</td>\n",
       "      <td>14</td>\n",
       "      <td>12</td>\n",
       "      <td>7</td>\n",
       "      <td>2</td>\n",
       "      <td>29</td>\n",
       "      <td>9</td>\n",
       "      <td>791</td>\n",
       "      <td>377</td>\n",
       "      <td>12</td>\n",
       "      <td>18</td>\n",
       "      <td>10</td>\n",
       "      <td>11</td>\n",
       "      <td>10</td>\n",
       "      <td>8</td>\n",
       "      <td>7</td>\n",
       "      <td>33</td>\n",
       "      <td>3</td>\n",
       "      <td>1</td>\n",
       "      <td>5</td>\n",
       "      <td>11</td>\n",
       "      <td>20</td>\n",
       "      <td>11</td>\n",
       "      <td>51</td>\n",
       "      <td>56</td>\n",
       "      <td>['25 Matheus Cunha', '4 Léo Pereira', '5 Erick...</td>\n",
       "      <td>[{'tempo_cartao_amarelo': \"['28:00', '28:00', ...</td>\n",
       "      <td>[{'tempo_cartao_vermelho': \"['5:00', '11:00']\"...</td>\n",
       "      <td>[{'tempo_substituicao': \"['+5:00', '45:00', '1...</td>\n",
       "    </tr>\n",
       "    <tr>\n",
       "      <th>3</th>\n",
       "      <td>4</td>\n",
       "      <td>Athletico Paranaense</td>\n",
       "      <td>2</td>\n",
       "      <td>Paulo Turra</td>\n",
       "      <td>Thiago Heleno</td>\n",
       "      <td>Flamengo</td>\n",
       "      <td>1</td>\n",
       "      <td>Jorge Sampaoli</td>\n",
       "      <td>Everton Ribeiro</td>\n",
       "      <td>2023-05-07 16:00:00</td>\n",
       "      <td>domingo</td>\n",
       "      <td>Estádio Joaquim Américo Guimarães / Curitiba</td>\n",
       "      <td>Raphael Claus</td>\n",
       "      <td>Thiago Duarte Peixoto</td>\n",
       "      <td>[{'jogador': ['Vitor Roque ', 'Erick ', 'Gabri...</td>\n",
       "      <td>32015</td>\n",
       "      <td>1898030.0</td>\n",
       "      <td>40</td>\n",
       "      <td>60</td>\n",
       "      <td>382</td>\n",
       "      <td>290</td>\n",
       "      <td>76.0</td>\n",
       "      <td>577</td>\n",
       "      <td>475</td>\n",
       "      <td>82.0</td>\n",
       "      <td>10</td>\n",
       "      <td>4</td>\n",
       "      <td>40.0</td>\n",
       "      <td>13</td>\n",
       "      <td>3</td>\n",
       "      <td>23.0</td>\n",
       "      <td>3</td>\n",
       "      <td>3</td>\n",
       "      <td>100.0</td>\n",
       "      <td>4</td>\n",
       "      <td>2</td>\n",
       "      <td>50.0</td>\n",
       "      <td>15</td>\n",
       "      <td>11</td>\n",
       "      <td>2</td>\n",
       "      <td>8</td>\n",
       "      <td>7</td>\n",
       "      <td>20</td>\n",
       "      <td>502</td>\n",
       "      <td>677</td>\n",
       "      <td>19</td>\n",
       "      <td>15</td>\n",
       "      <td>7</td>\n",
       "      <td>11</td>\n",
       "      <td>8</td>\n",
       "      <td>13</td>\n",
       "      <td>25</td>\n",
       "      <td>16</td>\n",
       "      <td>2</td>\n",
       "      <td>0</td>\n",
       "      <td>6</td>\n",
       "      <td>8</td>\n",
       "      <td>20</td>\n",
       "      <td>16</td>\n",
       "      <td>65</td>\n",
       "      <td>62</td>\n",
       "      <td>['1 Santos', '4 Léo Pereira', '5 Erick Pulgar'...</td>\n",
       "      <td>[{'tempo_cartao_amarelo': \"['28:00', '31:00', ...</td>\n",
       "      <td>[{'tempo_cartao_vermelho': nan, '1T/2T_cartao_...</td>\n",
       "      <td>[{'tempo_substituicao': \"['+7:00', '45:00', '4...</td>\n",
       "    </tr>\n",
       "    <tr>\n",
       "      <th>4</th>\n",
       "      <td>5</td>\n",
       "      <td>Flamengo</td>\n",
       "      <td>2</td>\n",
       "      <td>Jorge Sampaoli</td>\n",
       "      <td>Everton Ribeiro</td>\n",
       "      <td>Goiás</td>\n",
       "      <td>0</td>\n",
       "      <td>Emerson Ávila</td>\n",
       "      <td>Vinícius</td>\n",
       "      <td>2023-05-10 20:00:00</td>\n",
       "      <td>quarta-feira</td>\n",
       "      <td>Estadio Jornalista Mário Filho / Rio de Janeiro</td>\n",
       "      <td>Savio Pereira</td>\n",
       "      <td>Rodrigo Guarizo Ferreira Do Amaral</td>\n",
       "      <td>[{'jogador': ['Pedro (P) ', 'Everton Ribeiro '...</td>\n",
       "      <td>44948</td>\n",
       "      <td>1996277.5</td>\n",
       "      <td>57</td>\n",
       "      <td>43</td>\n",
       "      <td>596</td>\n",
       "      <td>515</td>\n",
       "      <td>86.0</td>\n",
       "      <td>453</td>\n",
       "      <td>365</td>\n",
       "      <td>81.0</td>\n",
       "      <td>22</td>\n",
       "      <td>4</td>\n",
       "      <td>18.0</td>\n",
       "      <td>14</td>\n",
       "      <td>6</td>\n",
       "      <td>43.0</td>\n",
       "      <td>6</td>\n",
       "      <td>6</td>\n",
       "      <td>100.0</td>\n",
       "      <td>4</td>\n",
       "      <td>3</td>\n",
       "      <td>75.0</td>\n",
       "      <td>22</td>\n",
       "      <td>9</td>\n",
       "      <td>8</td>\n",
       "      <td>7</td>\n",
       "      <td>26</td>\n",
       "      <td>22</td>\n",
       "      <td>729</td>\n",
       "      <td>595</td>\n",
       "      <td>20</td>\n",
       "      <td>23</td>\n",
       "      <td>4</td>\n",
       "      <td>9</td>\n",
       "      <td>13</td>\n",
       "      <td>11</td>\n",
       "      <td>25</td>\n",
       "      <td>32</td>\n",
       "      <td>1</td>\n",
       "      <td>1</td>\n",
       "      <td>6</td>\n",
       "      <td>10</td>\n",
       "      <td>15</td>\n",
       "      <td>18</td>\n",
       "      <td>44</td>\n",
       "      <td>66</td>\n",
       "      <td>['25 Matheus Cunha', '4 Léo Pereira', '5 Erick...</td>\n",
       "      <td>[{'tempo_cartao_amarelo': \"['42:00', '45:00']\"...</td>\n",
       "      <td>[{'tempo_cartao_vermelho': nan, '1T/2T_cartao_...</td>\n",
       "      <td>[{'tempo_substituicao': \"['13:00', '15:00', '2...</td>\n",
       "    </tr>\n",
       "  </tbody>\n",
       "</table>\n",
       "</div>"
      ],
      "text/plain": [
       "   rodada             time_casa  placar_time_casa tecnico_time_casa  \\\n",
       "0       1              Flamengo                 3       Mário Jorge   \n",
       "1       2         Internacional                 2      Mano Menezes   \n",
       "2       3              Flamengo                 2    Jorge Sampaoli   \n",
       "3       4  Athletico Paranaense                 2       Paulo Turra   \n",
       "4       5              Flamengo                 2    Jorge Sampaoli   \n",
       "\n",
       "  capitao_time_casa time_visitante  placar_time_visitante  \\\n",
       "0   Everton Ribeiro       Coritiba                      0   \n",
       "1      Alan Patrick       Flamengo                      1   \n",
       "2   Gabriel Barbosa  Botafogo (RJ)                      3   \n",
       "3     Thiago Heleno       Flamengo                      1   \n",
       "4   Everton Ribeiro          Goiás                      0   \n",
       "\n",
       "  tecnico_time_visitante capitao_time_visitante   data_horario_jogo  \\\n",
       "0       António Oliveira                Gabriel 2023-04-16 16:00:00   \n",
       "1         Jorge Sampaoli        Everton Ribeiro 2023-04-23 11:00:00   \n",
       "2            Luís Castro        Fernando Marçal 2023-04-30 16:00:00   \n",
       "3         Jorge Sampaoli        Everton Ribeiro 2023-05-07 16:00:00   \n",
       "4          Emerson Ávila               Vinícius 2023-05-10 20:00:00   \n",
       "\n",
       "  dia_da_semana                                     estadio_jogo  \\\n",
       "0       domingo  Estadio Jornalista Mário Filho / Rio de Janeiro   \n",
       "1       domingo       Estádio José Pinheiro Borba / Porto Alegre   \n",
       "2       domingo  Estadio Jornalista Mário Filho / Rio de Janeiro   \n",
       "3       domingo     Estádio Joaquim Américo Guimarães / Curitiba   \n",
       "4  quarta-feira  Estadio Jornalista Mário Filho / Rio de Janeiro   \n",
       "\n",
       "                    arbitro_jogo                              var_jogo  \\\n",
       "0  Rodrigo José Pereira de Lima                     Daniel Nobre Bins    \n",
       "1             Ramon Abatti Abel                        Rodolpho Toski    \n",
       "2           Edina Alves Batista                          Daiane Muniz    \n",
       "3                 Raphael Claus                 Thiago Duarte Peixoto    \n",
       "4                 Savio Pereira    Rodrigo Guarizo Ferreira Do Amaral    \n",
       "\n",
       "                                           gols_jogo  publico_jogo  \\\n",
       "0  [{'jogador': ['Ayrton Lucas ', 'Gabriel Barbos...         43440   \n",
       "1  [{'jogador': ['Mauricio ', 'Mauricio ', 'Gerso...         45751   \n",
       "2  [{'jogador': ['Léo Pereira ', 'Léo Pereira ', ...         53138   \n",
       "3  [{'jogador': ['Vitor Roque ', 'Erick ', 'Gabri...         32015   \n",
       "4  [{'jogador': ['Pedro (P) ', 'Everton Ribeiro '...         44948   \n",
       "\n",
       "   renda_jogo  posse_time_casa  posse_time_visitante  \\\n",
       "0   2486755.0               58                    42   \n",
       "1   2446749.0               36                    64   \n",
       "2   2880685.0               74                    26   \n",
       "3   1898030.0               40                    60   \n",
       "4   1996277.5               57                    43   \n",
       "\n",
       "   quant_total_passes_time_casa  quant_passes_certos_time_casa  \\\n",
       "0                           581                            505   \n",
       "1                           353                            275   \n",
       "2                           698                            592   \n",
       "3                           382                            290   \n",
       "4                           596                            515   \n",
       "\n",
       "   por_passes_certos_time_casa  quant_total_passes_time_visitante  \\\n",
       "0                         87.0                                420   \n",
       "1                         78.0                                629   \n",
       "2                         85.0                                249   \n",
       "3                         76.0                                577   \n",
       "4                         86.0                                453   \n",
       "\n",
       "   quant_passes_certos_time_visitante  por_passes_certos_time_visitante  \\\n",
       "0                                 348                              83.0   \n",
       "1                                 547                              87.0   \n",
       "2                                 171                              69.0   \n",
       "3                                 475                              82.0   \n",
       "4                                 365                              81.0   \n",
       "\n",
       "   quant_total_chutes_time_casa  quant_chutes_certos_time_casa  \\\n",
       "0                            14                              6   \n",
       "1                            16                              4   \n",
       "2                            24                             13   \n",
       "3                            10                              4   \n",
       "4                            22                              4   \n",
       "\n",
       "   por_chutes_certos_time_casa  quant_total_chutes_time_visitante  \\\n",
       "0                         43.0                                 10   \n",
       "1                         25.0                                 16   \n",
       "2                         54.0                                 11   \n",
       "3                         40.0                                 13   \n",
       "4                         18.0                                 14   \n",
       "\n",
       "   quant_chutes_certos_time_visitante  por_chutes_certos_time_visitante  \\\n",
       "0                                   3                              30.0   \n",
       "1                                   4                              25.0   \n",
       "2                                   5                              45.0   \n",
       "3                                   3                              23.0   \n",
       "4                                   6                              43.0   \n",
       "\n",
       "   quant_total_desefas_goleiro_time_casa  \\\n",
       "0                                      3   \n",
       "1                                      4   \n",
       "2                                      5   \n",
       "3                                      3   \n",
       "4                                      6   \n",
       "\n",
       "   quant_desefas_certas_goleiro_time_casa  \\\n",
       "0                                       3   \n",
       "1                                       3   \n",
       "2                                       3   \n",
       "3                                       3   \n",
       "4                                       6   \n",
       "\n",
       "   por_desefas_certas_goleiro_time_casa  \\\n",
       "0                                 100.0   \n",
       "1                                  75.0   \n",
       "2                                  60.0   \n",
       "3                                 100.0   \n",
       "4                                 100.0   \n",
       "\n",
       "   quant_total_defesas_goleiro_time_visitante  \\\n",
       "0                                           6   \n",
       "1                                           4   \n",
       "2                                          13   \n",
       "3                                           4   \n",
       "4                                           4   \n",
       "\n",
       "   quant_defesas_certas_goleiro_time_visitante  \\\n",
       "0                                            4   \n",
       "1                                            2   \n",
       "2                                           11   \n",
       "3                                            2   \n",
       "4                                            3   \n",
       "\n",
       "   por_defesas_certas_goleiro_time_visitante  quant_faltas_time_casa  \\\n",
       "0                                       66.0                      20   \n",
       "1                                       50.0                      14   \n",
       "2                                       84.0                      14   \n",
       "3                                       50.0                      15   \n",
       "4                                       75.0                      22   \n",
       "\n",
       "   quant_faltas_time_visitante  quant_escanteios_time_casa  \\\n",
       "0                           17                           6   \n",
       "1                           13                           6   \n",
       "2                           12                           7   \n",
       "3                           11                           2   \n",
       "4                            9                           8   \n",
       "\n",
       "   quant_escanteios_time_visitante  quant_cruzamentos_time_casa  \\\n",
       "0                                3                           16   \n",
       "1                                2                           21   \n",
       "2                                2                           29   \n",
       "3                                8                            7   \n",
       "4                                7                           26   \n",
       "\n",
       "   quant_cruzamentos_time_visitante  quant_contatos_time_casa  \\\n",
       "0                                12                       704   \n",
       "1                                11                       478   \n",
       "2                                 9                       791   \n",
       "3                                20                       502   \n",
       "4                                22                       729   \n",
       "\n",
       "   quant_contatos_time_visitante  quant_bote_defensivo_time_casa  \\\n",
       "0                            556                              23   \n",
       "1                            730                              19   \n",
       "2                            377                              12   \n",
       "3                            677                              19   \n",
       "4                            595                              20   \n",
       "\n",
       "   quant_bote_defensivo_time_visitante  quant_cortes_time_casa  \\\n",
       "0                                   28                      12   \n",
       "1                                    9                      18   \n",
       "2                                   18                      10   \n",
       "3                                   15                       7   \n",
       "4                                   23                       4   \n",
       "\n",
       "   quant_cortes_time_visitante  quant_jogada_aereas_time_casa  \\\n",
       "0                           11                              7   \n",
       "1                            7                              9   \n",
       "2                           11                             10   \n",
       "3                           11                              8   \n",
       "4                            9                             13   \n",
       "\n",
       "   quant_jogada_aereas_time_visitante  quant_defesas_time_casa  \\\n",
       "0                                   9                       13   \n",
       "1                                   6                       17   \n",
       "2                                   8                        7   \n",
       "3                                  13                       25   \n",
       "4                                  11                       25   \n",
       "\n",
       "   quant_defesas_time_visitante  quant_impedimentos_time_casa  \\\n",
       "0                            17                             1   \n",
       "1                            14                             2   \n",
       "2                            33                             3   \n",
       "3                            16                             2   \n",
       "4                            32                             1   \n",
       "\n",
       "   quant_impedimentos_time_visitante  quant_tiros_meta_time_casa  \\\n",
       "0                                  2                           3   \n",
       "1                                  3                          10   \n",
       "2                                  1                           5   \n",
       "3                                  0                           6   \n",
       "4                                  1                           6   \n",
       "\n",
       "   quant_tiros_meta_time_visitante  quant_cobranca_lateral_time_casa  \\\n",
       "0                                5                                19   \n",
       "1                                8                                16   \n",
       "2                               11                                20   \n",
       "3                                8                                20   \n",
       "4                               10                                15   \n",
       "\n",
       "   quant_cobranca_lateral_time_visitante  quant_bolas_longas_time_casa  \\\n",
       "0                                     21                            58   \n",
       "1                                     22                            49   \n",
       "2                                     11                            51   \n",
       "3                                     16                            65   \n",
       "4                                     18                            44   \n",
       "\n",
       "   quant_bolas_longas_time_visitante  \\\n",
       "0                                 58   \n",
       "1                                 49   \n",
       "2                                 56   \n",
       "3                                 62   \n",
       "4                                 66   \n",
       "\n",
       "                                      escalacao_jogo  \\\n",
       "0  ['1 Santos', '4 Léo Pereira', '6 Ayrton Lucas'...   \n",
       "1  ['1 Santos', '4 Léo Pereira', '6 Ayrton Lucas'...   \n",
       "2  ['25 Matheus Cunha', '4 Léo Pereira', '5 Erick...   \n",
       "3  ['1 Santos', '4 Léo Pereira', '5 Erick Pulgar'...   \n",
       "4  ['25 Matheus Cunha', '4 Léo Pereira', '5 Erick...   \n",
       "\n",
       "                               info_cartoes_amarelos  \\\n",
       "0  [{'tempo_cartao_amarelo': \"['17:00', '35:00', ...   \n",
       "1  [{'tempo_cartao_amarelo': \"['16:00', '29:00', ...   \n",
       "2  [{'tempo_cartao_amarelo': \"['28:00', '28:00', ...   \n",
       "3  [{'tempo_cartao_amarelo': \"['28:00', '31:00', ...   \n",
       "4  [{'tempo_cartao_amarelo': \"['42:00', '45:00']\"...   \n",
       "\n",
       "                              info_cartoes_vermelhos  \\\n",
       "0  [{'tempo_cartao_vermelho': nan, '1T/2T_cartao_...   \n",
       "1  [{'tempo_cartao_vermelho': nan, '1T/2T_cartao_...   \n",
       "2  [{'tempo_cartao_vermelho': \"['5:00', '11:00']\"...   \n",
       "3  [{'tempo_cartao_vermelho': nan, '1T/2T_cartao_...   \n",
       "4  [{'tempo_cartao_vermelho': nan, '1T/2T_cartao_...   \n",
       "\n",
       "                                  info_substituicoes  \n",
       "0  [{'tempo_substituicao': \"['05:00', '08:00', '0...  \n",
       "1  [{'tempo_substituicao': \"['20:00', '20:00', '2...  \n",
       "2  [{'tempo_substituicao': \"['+5:00', '45:00', '1...  \n",
       "3  [{'tempo_substituicao': \"['+7:00', '45:00', '4...  \n",
       "4  [{'tempo_substituicao': \"['13:00', '15:00', '2...  "
      ]
     },
     "execution_count": 31,
     "metadata": {},
     "output_type": "execute_result"
    }
   ],
   "source": [
    "#verificando as 5 primeiras linhas\n",
    "df_flamengo.head()"
   ]
  },
  {
   "cell_type": "markdown",
   "metadata": {},
   "source": [
    "Ao ver todo o dataset, eu percebi que o número das rodadas estava errado, pois o jogo entre Flamengo X Bragantino , que foi válido pela rodada 30, estava como rodada 34 e isso cocorreu porque esse jogo foi atrasado, e isso divergiu o número das rodadas.  \n",
    "Na hora da coleta dos dados eu não me atentei a isso então vou consertar agora."
   ]
  },
  {
   "cell_type": "code",
   "execution_count": 32,
   "metadata": {},
   "outputs": [],
   "source": [
    "# consertando o número das rodadas\n",
    "list_rodada = [31,32,33,34,30,35,36,37,38]\n",
    "count=0\n",
    "for i in df_flamengo['rodada'][29:].index:\n",
    "    df_flamengo.loc[i,'rodada'] = list_rodada[count]\n",
    "    count+=1"
   ]
  },
  {
   "cell_type": "code",
   "execution_count": 33,
   "metadata": {},
   "outputs": [
    {
     "data": {
      "text/plain": [
       "(38, 65)"
      ]
     },
     "execution_count": 33,
     "metadata": {},
     "output_type": "execute_result"
    }
   ],
   "source": [
    "#verificando a quantidade de linhas e colunas do dataset\n",
    "df_flamengo.shape"
   ]
  },
  {
   "cell_type": "markdown",
   "metadata": {},
   "source": [
    "Vemos que o dataset possui 38 linhas, cada linha corresponde a uma rodada do brasileirão e 65 colunas."
   ]
  },
  {
   "cell_type": "code",
   "execution_count": 34,
   "metadata": {},
   "outputs": [
    {
     "name": "stdout",
     "output_type": "stream",
     "text": [
      "<class 'pandas.core.frame.DataFrame'>\n",
      "RangeIndex: 38 entries, 0 to 37\n",
      "Data columns (total 65 columns):\n",
      " #   Column                                       Non-Null Count  Dtype         \n",
      "---  ------                                       --------------  -----         \n",
      " 0   rodada                                       38 non-null     int64         \n",
      " 1   time_casa                                    38 non-null     object        \n",
      " 2   placar_time_casa                             38 non-null     int64         \n",
      " 3   tecnico_time_casa                            38 non-null     object        \n",
      " 4   capitao_time_casa                            38 non-null     object        \n",
      " 5   time_visitante                               38 non-null     object        \n",
      " 6   placar_time_visitante                        38 non-null     int64         \n",
      " 7   tecnico_time_visitante                       38 non-null     object        \n",
      " 8   capitao_time_visitante                       38 non-null     object        \n",
      " 9   data_horario_jogo                            38 non-null     datetime64[ns]\n",
      " 10  dia_da_semana                                38 non-null     object        \n",
      " 11  estadio_jogo                                 38 non-null     object        \n",
      " 12  arbitro_jogo                                 38 non-null     object        \n",
      " 13  var_jogo                                     38 non-null     object        \n",
      " 14  gols_jogo                                    38 non-null     object        \n",
      " 15  publico_jogo                                 38 non-null     int64         \n",
      " 16  renda_jogo                                   38 non-null     float64       \n",
      " 17  posse_time_casa                              38 non-null     int64         \n",
      " 18  posse_time_visitante                         38 non-null     int64         \n",
      " 19  quant_total_passes_time_casa                 38 non-null     int64         \n",
      " 20  quant_passes_certos_time_casa                38 non-null     int64         \n",
      " 21  por_passes_certos_time_casa                  38 non-null     float64       \n",
      " 22  quant_total_passes_time_visitante            38 non-null     int64         \n",
      " 23  quant_passes_certos_time_visitante           38 non-null     int64         \n",
      " 24  por_passes_certos_time_visitante             38 non-null     float64       \n",
      " 25  quant_total_chutes_time_casa                 38 non-null     int64         \n",
      " 26  quant_chutes_certos_time_casa                38 non-null     int64         \n",
      " 27  por_chutes_certos_time_casa                  38 non-null     float64       \n",
      " 28  quant_total_chutes_time_visitante            38 non-null     int64         \n",
      " 29  quant_chutes_certos_time_visitante           38 non-null     int64         \n",
      " 30  por_chutes_certos_time_visitante             38 non-null     float64       \n",
      " 31  quant_total_desefas_goleiro_time_casa        38 non-null     int64         \n",
      " 32  quant_desefas_certas_goleiro_time_casa       38 non-null     int64         \n",
      " 33  por_desefas_certas_goleiro_time_casa         38 non-null     float64       \n",
      " 34  quant_total_defesas_goleiro_time_visitante   38 non-null     int64         \n",
      " 35  quant_defesas_certas_goleiro_time_visitante  38 non-null     int64         \n",
      " 36  por_defesas_certas_goleiro_time_visitante    38 non-null     float64       \n",
      " 37  quant_faltas_time_casa                       38 non-null     int64         \n",
      " 38  quant_faltas_time_visitante                  38 non-null     int64         \n",
      " 39  quant_escanteios_time_casa                   38 non-null     int64         \n",
      " 40  quant_escanteios_time_visitante              38 non-null     int64         \n",
      " 41  quant_cruzamentos_time_casa                  38 non-null     int64         \n",
      " 42  quant_cruzamentos_time_visitante             38 non-null     int64         \n",
      " 43  quant_contatos_time_casa                     38 non-null     int64         \n",
      " 44  quant_contatos_time_visitante                38 non-null     int64         \n",
      " 45  quant_bote_defensivo_time_casa               38 non-null     int64         \n",
      " 46  quant_bote_defensivo_time_visitante          38 non-null     int64         \n",
      " 47  quant_cortes_time_casa                       38 non-null     int64         \n",
      " 48  quant_cortes_time_visitante                  38 non-null     int64         \n",
      " 49  quant_jogada_aereas_time_casa                38 non-null     int64         \n",
      " 50  quant_jogada_aereas_time_visitante           38 non-null     int64         \n",
      " 51  quant_defesas_time_casa                      38 non-null     int64         \n",
      " 52  quant_defesas_time_visitante                 38 non-null     int64         \n",
      " 53  quant_impedimentos_time_casa                 38 non-null     int64         \n",
      " 54  quant_impedimentos_time_visitante            38 non-null     int64         \n",
      " 55  quant_tiros_meta_time_casa                   38 non-null     int64         \n",
      " 56  quant_tiros_meta_time_visitante              38 non-null     int64         \n",
      " 57  quant_cobranca_lateral_time_casa             38 non-null     int64         \n",
      " 58  quant_cobranca_lateral_time_visitante        38 non-null     int64         \n",
      " 59  quant_bolas_longas_time_casa                 38 non-null     int64         \n",
      " 60  quant_bolas_longas_time_visitante            38 non-null     int64         \n",
      " 61  escalacao_jogo                               38 non-null     object        \n",
      " 62  info_cartoes_amarelos                        38 non-null     object        \n",
      " 63  info_cartoes_vermelhos                       38 non-null     object        \n",
      " 64  info_substituicoes                           38 non-null     object        \n",
      "dtypes: datetime64[ns](1), float64(7), int64(42), object(15)\n",
      "memory usage: 19.4+ KB\n"
     ]
    }
   ],
   "source": [
    "#verificando o tipo das colunas\n",
    "df_flamengo.info()"
   ]
  },
  {
   "cell_type": "markdown",
   "metadata": {},
   "source": [
    "A maioria das colunas já foram tratadas na parte II, somente os dados dos dicionários das colunas sobre os cartões amarelos, vermelhos e substituições não forasm tratados.\n",
    "Resolvi tratar esses dados quando eu for responder alguma pergunta que eles serão usados."
   ]
  },
  {
   "cell_type": "code",
   "execution_count": 35,
   "metadata": {},
   "outputs": [
    {
     "data": {
      "text/plain": [
       "rodada                               0\n",
       "time_casa                            0\n",
       "placar_time_casa                     0\n",
       "tecnico_time_casa                    0\n",
       "capitao_time_casa                    0\n",
       "                                    ..\n",
       "quant_bolas_longas_time_visitante    0\n",
       "escalacao_jogo                       0\n",
       "info_cartoes_amarelos                0\n",
       "info_cartoes_vermelhos               0\n",
       "info_substituicoes                   0\n",
       "Length: 65, dtype: int64"
      ]
     },
     "execution_count": 35,
     "metadata": {},
     "output_type": "execute_result"
    }
   ],
   "source": [
    "#verificando se tem arquivos nulos\n",
    "df_flamengo.isnull().sum()"
   ]
  },
  {
   "cell_type": "markdown",
   "metadata": {},
   "source": [
    "Nas colunas info_cartões_amarelos e info_cartões_vermelhos existe valores nulos, mas esse valores nulos ocorrem porque a partida nao teve cartão amarelo e vermelho.\n",
    "Existem mais valores nulos na coluna dos cartões vermelhos, pois é mais raro ter expulsão nas partidas do que cartões amarelos."
   ]
  },
  {
   "cell_type": "markdown",
   "metadata": {},
   "source": [
    "## Analisando o Dataset"
   ]
  },
  {
   "cell_type": "markdown",
   "metadata": {},
   "source": [
    "Para verificar como que foi o desempenho do flamengo no brasileirão 2023, será respondida as seguintes perguntas:\n",
    "- Qual é a média de posse de bola do Flamengo em casa e fora de casa ao longo da temporada?\n",
    "- Em qual jogo o Flamengo teve a maior porcentagem de posse de bola e a menor porcentagem ?\n",
    "- Existe alguma correlação entre a porcentagem de passes certos e o número de gols marcados pelo Flamengo em cada partida?\n",
    "- Qual foi a distribuição de renda e púlico nos jogos do Flamengo como mandante e visitante ?\n",
    "- Como a quantidade de chutes certos do Flamengo se compara com a quantidade de gols marcados em casa e fora de casa?\n",
    "- Qual foi o desempenho do Flamengo em relação a cartões amarelos e vermelhos? Houve algum jogador que recebeu muitos cartões?\n",
    "- Existe alguma relação entre o número de substituições feitas pelo Flamengo e o resultado das partidas?\n",
    "- Quais foram os principais adversários do Flamengo ao longo da temporada em termos de desafios enfrentados e resultados obtidos?\n",
    "- O desempenho do Flamengo variou ao longo da temporada em relação ao número de defesas feitas pelos goleiros?\n",
    "- Qual foi o impacto da quantidade de faltas cometidas pelo Flamengo nos resultados das partidas?\n",
    "- Como o desempenho do Flamengo em termos de passes e chutes certos se relaciona com a posição na tabela do campeonato?"
   ]
  },
  {
   "cell_type": "markdown",
   "metadata": {},
   "source": [
    "### Qual é a média de posse de bola do Flamengo em casa e fora de casa ao longo da temporada?"
   ]
  },
  {
   "cell_type": "code",
   "execution_count": 36,
   "metadata": {},
   "outputs": [
    {
     "name": "stdout",
     "output_type": "stream",
     "text": [
      "Média da posse de bola do Flamengo jogando como:\n",
      "Mandante: 58.26315789473684\n",
      "Vititante: 56.578947368421055\n"
     ]
    }
   ],
   "source": [
    "#média da posse de bola do flamengo jogando em casa\n",
    "mean_flamengo_home = df_flamengo.query('time_casa == \"Flamengo\"')['posse_time_casa'].mean()\n",
    "#média da posse de bola do flamengo jogando fora\n",
    "mean_flamengo_away = df_flamengo.query('time_visitante == \"Flamengo\"')['posse_time_visitante'].mean()\n",
    "\n",
    "print(f'Média da posse de bola do Flamengo jogando como:\\nMandante: {mean_flamengo_home}\\nVititante: {mean_flamengo_away}')"
   ]
  },
  {
   "cell_type": "markdown",
   "metadata": {},
   "source": [
    "Como pode ser visto,jogando em casa o flamengo teve mais posse de bola se comparado quando jogou fora, um resultado que já é de se esperar porque quando o time joga em casa ele tem mais tendência em controlar o jogo."
   ]
  },
  {
   "cell_type": "markdown",
   "metadata": {},
   "source": [
    "### Em qual jogo o Flamengo teve a maior porcentagem de posse de bola e a menor porcentagem jogando como mandante e como visitante?"
   ]
  },
  {
   "cell_type": "code",
   "execution_count": 37,
   "metadata": {},
   "outputs": [
    {
     "name": "stdout",
     "output_type": "stream",
     "text": [
      "A maior e a menor porcentagem de posse de bola do Flamengo jogando como mandante é:\n",
      "Maior: rodada 3 74% de posse de bola\n",
      "Menor: rodada 34 42% de posse de bola\n",
      "\n",
      "A maior e a menor porcentagem de posse de bola do Flamengo jogando como visitante é:\n",
      "Maior: rodada 11 59% de posse de bola\n",
      "Menor: rodada 12 33% de posse de bola\n"
     ]
    }
   ],
   "source": [
    "#df com o flamengo sendo  time da casa\n",
    "flamengo_home = df_flamengo.query('time_casa == \"Flamengo\"')\n",
    "#df com o flamengo sendo o time visitante\n",
    "flamengo_away = df_flamengo.query('time_visitante == \"Flamengo\"')\n",
    "\n",
    "# função que pega a maior e a menor porcentagem de posse de bola do Flamengo jogando como mandante e visitante\n",
    "def max_min_percent_posse_match(df):\n",
    "\n",
    "    max_percent = df['posse_time_casa'].max()\n",
    "    index_max_percent = df['posse_time_casa'].idxmax()\n",
    "    match_max_percent = df['rodada'][index_max_percent]\n",
    "\n",
    "    min_percent = df['posse_time_casa'].min()\n",
    "    index_min_percent = df['posse_time_casa'].idxmin()\n",
    "    match_min_percent = df['rodada'][index_min_percent]\n",
    "\n",
    "    print(f'Maior: rodada {match_max_percent} {max_percent}% de posse de bola\\nMenor: rodada {match_min_percent} {min_percent}% de posse de bola')\n",
    "\n",
    "\n",
    "print('A maior e a menor porcentagem de posse de bola do Flamengo jogando como mandante é:')\n",
    "max_min_percent_posse_match(flamengo_home)\n",
    "\n",
    "print('\\nA maior e a menor porcentagem de posse de bola do Flamengo jogando como visitante é:')\n",
    "max_min_percent_posse_match(flamengo_away)"
   ]
  },
  {
   "cell_type": "markdown",
   "metadata": {},
   "source": [
    "- Como pode ser observado, o jogo que o Flamengo teve a maior porcentagem de posse de bola jogando como mandante foi na rodada 3 Flamengo X Botafogo, já a menor foi na rodada 33 Flamengo x Fluminense.\n",
    "- Agora, como visitante, o jogo que o Flamengo obteve a maior porcentagem de posse de bola foi na rodada 11 Bragantino x Flamengo, já a menor foi na rodada 12 Santos x Flamengo."
   ]
  },
  {
   "cell_type": "markdown",
   "metadata": {},
   "source": [
    "### Existe alguma correlação entre a porcentagem de passes certos e o número de gols marcados pelo Flamengo em cada partida?"
   ]
  },
  {
   "cell_type": "code",
   "execution_count": 38,
   "metadata": {},
   "outputs": [],
   "source": [
    "array_percent_passes_certos_each_match = np.concatenate((flamengo_home['por_passes_certos_time_casa'].values,\n",
    "                                                         flamengo_away['por_passes_certos_time_visitante'].values))\n",
    "\n",
    "array_number_goals_each_match = np.concatenate((flamengo_home['placar_time_casa'].values,flamengo_away['placar_time_visitante'].values))"
   ]
  },
  {
   "cell_type": "code",
   "execution_count": 39,
   "metadata": {},
   "outputs": [
    {
     "data": {
      "application/vnd.plotly.v1+json": {
       "config": {
        "plotlyServerURL": "https://plot.ly"
       },
       "data": [
        {
         "hovertemplate": "x=%{x}<br>y=%{y}<extra></extra>",
         "legendgroup": "",
         "marker": {
          "color": "#d80903",
          "size": 10,
          "symbol": "circle"
         },
         "mode": "markers",
         "name": "",
         "orientation": "v",
         "showlegend": false,
         "type": "scatter",
         "x": [
          87,
          85,
          86,
          89,
          85,
          82,
          82,
          82,
          85,
          82,
          83,
          82,
          81,
          86,
          90,
          80,
          75,
          85,
          91,
          87,
          82,
          83,
          86,
          73,
          87,
          86,
          81,
          87,
          87,
          84,
          83,
          84,
          84,
          84,
          88,
          82,
          84,
          87
         ],
         "xaxis": "x",
         "y": [
          3,
          2,
          2,
          1,
          1,
          3,
          2,
          1,
          1,
          0,
          0,
          1,
          1,
          1,
          3,
          1,
          1,
          0,
          2,
          1,
          1,
          3,
          4,
          0,
          3,
          1,
          0,
          2,
          0,
          3,
          2,
          0,
          1,
          2,
          2,
          2,
          3,
          0
         ],
         "yaxis": "y"
        }
       ],
       "layout": {
        "height": 400,
        "legend": {
         "tracegroupgap": 0
        },
        "margin": {
         "t": 60
        },
        "template": {
         "data": {
          "bar": [
           {
            "error_x": {
             "color": "rgb(36,36,36)"
            },
            "error_y": {
             "color": "rgb(36,36,36)"
            },
            "marker": {
             "line": {
              "color": "white",
              "width": 0.5
             },
             "pattern": {
              "fillmode": "overlay",
              "size": 10,
              "solidity": 0.2
             }
            },
            "type": "bar"
           }
          ],
          "barpolar": [
           {
            "marker": {
             "line": {
              "color": "white",
              "width": 0.5
             },
             "pattern": {
              "fillmode": "overlay",
              "size": 10,
              "solidity": 0.2
             }
            },
            "type": "barpolar"
           }
          ],
          "carpet": [
           {
            "aaxis": {
             "endlinecolor": "rgb(36,36,36)",
             "gridcolor": "white",
             "linecolor": "white",
             "minorgridcolor": "white",
             "startlinecolor": "rgb(36,36,36)"
            },
            "baxis": {
             "endlinecolor": "rgb(36,36,36)",
             "gridcolor": "white",
             "linecolor": "white",
             "minorgridcolor": "white",
             "startlinecolor": "rgb(36,36,36)"
            },
            "type": "carpet"
           }
          ],
          "choropleth": [
           {
            "colorbar": {
             "outlinewidth": 1,
             "tickcolor": "rgb(36,36,36)",
             "ticks": "outside"
            },
            "type": "choropleth"
           }
          ],
          "contour": [
           {
            "colorbar": {
             "outlinewidth": 1,
             "tickcolor": "rgb(36,36,36)",
             "ticks": "outside"
            },
            "colorscale": [
             [
              0,
              "#440154"
             ],
             [
              0.1111111111111111,
              "#482878"
             ],
             [
              0.2222222222222222,
              "#3e4989"
             ],
             [
              0.3333333333333333,
              "#31688e"
             ],
             [
              0.4444444444444444,
              "#26828e"
             ],
             [
              0.5555555555555556,
              "#1f9e89"
             ],
             [
              0.6666666666666666,
              "#35b779"
             ],
             [
              0.7777777777777778,
              "#6ece58"
             ],
             [
              0.8888888888888888,
              "#b5de2b"
             ],
             [
              1,
              "#fde725"
             ]
            ],
            "type": "contour"
           }
          ],
          "contourcarpet": [
           {
            "colorbar": {
             "outlinewidth": 1,
             "tickcolor": "rgb(36,36,36)",
             "ticks": "outside"
            },
            "type": "contourcarpet"
           }
          ],
          "heatmap": [
           {
            "colorbar": {
             "outlinewidth": 1,
             "tickcolor": "rgb(36,36,36)",
             "ticks": "outside"
            },
            "colorscale": [
             [
              0,
              "#440154"
             ],
             [
              0.1111111111111111,
              "#482878"
             ],
             [
              0.2222222222222222,
              "#3e4989"
             ],
             [
              0.3333333333333333,
              "#31688e"
             ],
             [
              0.4444444444444444,
              "#26828e"
             ],
             [
              0.5555555555555556,
              "#1f9e89"
             ],
             [
              0.6666666666666666,
              "#35b779"
             ],
             [
              0.7777777777777778,
              "#6ece58"
             ],
             [
              0.8888888888888888,
              "#b5de2b"
             ],
             [
              1,
              "#fde725"
             ]
            ],
            "type": "heatmap"
           }
          ],
          "heatmapgl": [
           {
            "colorbar": {
             "outlinewidth": 1,
             "tickcolor": "rgb(36,36,36)",
             "ticks": "outside"
            },
            "colorscale": [
             [
              0,
              "#440154"
             ],
             [
              0.1111111111111111,
              "#482878"
             ],
             [
              0.2222222222222222,
              "#3e4989"
             ],
             [
              0.3333333333333333,
              "#31688e"
             ],
             [
              0.4444444444444444,
              "#26828e"
             ],
             [
              0.5555555555555556,
              "#1f9e89"
             ],
             [
              0.6666666666666666,
              "#35b779"
             ],
             [
              0.7777777777777778,
              "#6ece58"
             ],
             [
              0.8888888888888888,
              "#b5de2b"
             ],
             [
              1,
              "#fde725"
             ]
            ],
            "type": "heatmapgl"
           }
          ],
          "histogram": [
           {
            "marker": {
             "line": {
              "color": "white",
              "width": 0.6
             }
            },
            "type": "histogram"
           }
          ],
          "histogram2d": [
           {
            "colorbar": {
             "outlinewidth": 1,
             "tickcolor": "rgb(36,36,36)",
             "ticks": "outside"
            },
            "colorscale": [
             [
              0,
              "#440154"
             ],
             [
              0.1111111111111111,
              "#482878"
             ],
             [
              0.2222222222222222,
              "#3e4989"
             ],
             [
              0.3333333333333333,
              "#31688e"
             ],
             [
              0.4444444444444444,
              "#26828e"
             ],
             [
              0.5555555555555556,
              "#1f9e89"
             ],
             [
              0.6666666666666666,
              "#35b779"
             ],
             [
              0.7777777777777778,
              "#6ece58"
             ],
             [
              0.8888888888888888,
              "#b5de2b"
             ],
             [
              1,
              "#fde725"
             ]
            ],
            "type": "histogram2d"
           }
          ],
          "histogram2dcontour": [
           {
            "colorbar": {
             "outlinewidth": 1,
             "tickcolor": "rgb(36,36,36)",
             "ticks": "outside"
            },
            "colorscale": [
             [
              0,
              "#440154"
             ],
             [
              0.1111111111111111,
              "#482878"
             ],
             [
              0.2222222222222222,
              "#3e4989"
             ],
             [
              0.3333333333333333,
              "#31688e"
             ],
             [
              0.4444444444444444,
              "#26828e"
             ],
             [
              0.5555555555555556,
              "#1f9e89"
             ],
             [
              0.6666666666666666,
              "#35b779"
             ],
             [
              0.7777777777777778,
              "#6ece58"
             ],
             [
              0.8888888888888888,
              "#b5de2b"
             ],
             [
              1,
              "#fde725"
             ]
            ],
            "type": "histogram2dcontour"
           }
          ],
          "mesh3d": [
           {
            "colorbar": {
             "outlinewidth": 1,
             "tickcolor": "rgb(36,36,36)",
             "ticks": "outside"
            },
            "type": "mesh3d"
           }
          ],
          "parcoords": [
           {
            "line": {
             "colorbar": {
              "outlinewidth": 1,
              "tickcolor": "rgb(36,36,36)",
              "ticks": "outside"
             }
            },
            "type": "parcoords"
           }
          ],
          "pie": [
           {
            "automargin": true,
            "type": "pie"
           }
          ],
          "scatter": [
           {
            "fillpattern": {
             "fillmode": "overlay",
             "size": 10,
             "solidity": 0.2
            },
            "type": "scatter"
           }
          ],
          "scatter3d": [
           {
            "line": {
             "colorbar": {
              "outlinewidth": 1,
              "tickcolor": "rgb(36,36,36)",
              "ticks": "outside"
             }
            },
            "marker": {
             "colorbar": {
              "outlinewidth": 1,
              "tickcolor": "rgb(36,36,36)",
              "ticks": "outside"
             }
            },
            "type": "scatter3d"
           }
          ],
          "scattercarpet": [
           {
            "marker": {
             "colorbar": {
              "outlinewidth": 1,
              "tickcolor": "rgb(36,36,36)",
              "ticks": "outside"
             }
            },
            "type": "scattercarpet"
           }
          ],
          "scattergeo": [
           {
            "marker": {
             "colorbar": {
              "outlinewidth": 1,
              "tickcolor": "rgb(36,36,36)",
              "ticks": "outside"
             }
            },
            "type": "scattergeo"
           }
          ],
          "scattergl": [
           {
            "marker": {
             "colorbar": {
              "outlinewidth": 1,
              "tickcolor": "rgb(36,36,36)",
              "ticks": "outside"
             }
            },
            "type": "scattergl"
           }
          ],
          "scattermapbox": [
           {
            "marker": {
             "colorbar": {
              "outlinewidth": 1,
              "tickcolor": "rgb(36,36,36)",
              "ticks": "outside"
             }
            },
            "type": "scattermapbox"
           }
          ],
          "scatterpolar": [
           {
            "marker": {
             "colorbar": {
              "outlinewidth": 1,
              "tickcolor": "rgb(36,36,36)",
              "ticks": "outside"
             }
            },
            "type": "scatterpolar"
           }
          ],
          "scatterpolargl": [
           {
            "marker": {
             "colorbar": {
              "outlinewidth": 1,
              "tickcolor": "rgb(36,36,36)",
              "ticks": "outside"
             }
            },
            "type": "scatterpolargl"
           }
          ],
          "scatterternary": [
           {
            "marker": {
             "colorbar": {
              "outlinewidth": 1,
              "tickcolor": "rgb(36,36,36)",
              "ticks": "outside"
             }
            },
            "type": "scatterternary"
           }
          ],
          "surface": [
           {
            "colorbar": {
             "outlinewidth": 1,
             "tickcolor": "rgb(36,36,36)",
             "ticks": "outside"
            },
            "colorscale": [
             [
              0,
              "#440154"
             ],
             [
              0.1111111111111111,
              "#482878"
             ],
             [
              0.2222222222222222,
              "#3e4989"
             ],
             [
              0.3333333333333333,
              "#31688e"
             ],
             [
              0.4444444444444444,
              "#26828e"
             ],
             [
              0.5555555555555556,
              "#1f9e89"
             ],
             [
              0.6666666666666666,
              "#35b779"
             ],
             [
              0.7777777777777778,
              "#6ece58"
             ],
             [
              0.8888888888888888,
              "#b5de2b"
             ],
             [
              1,
              "#fde725"
             ]
            ],
            "type": "surface"
           }
          ],
          "table": [
           {
            "cells": {
             "fill": {
              "color": "rgb(237,237,237)"
             },
             "line": {
              "color": "white"
             }
            },
            "header": {
             "fill": {
              "color": "rgb(217,217,217)"
             },
             "line": {
              "color": "white"
             }
            },
            "type": "table"
           }
          ]
         },
         "layout": {
          "annotationdefaults": {
           "arrowhead": 0,
           "arrowwidth": 1
          },
          "autotypenumbers": "strict",
          "coloraxis": {
           "colorbar": {
            "outlinewidth": 1,
            "tickcolor": "rgb(36,36,36)",
            "ticks": "outside"
           }
          },
          "colorscale": {
           "diverging": [
            [
             0,
             "rgb(103,0,31)"
            ],
            [
             0.1,
             "rgb(178,24,43)"
            ],
            [
             0.2,
             "rgb(214,96,77)"
            ],
            [
             0.3,
             "rgb(244,165,130)"
            ],
            [
             0.4,
             "rgb(253,219,199)"
            ],
            [
             0.5,
             "rgb(247,247,247)"
            ],
            [
             0.6,
             "rgb(209,229,240)"
            ],
            [
             0.7,
             "rgb(146,197,222)"
            ],
            [
             0.8,
             "rgb(67,147,195)"
            ],
            [
             0.9,
             "rgb(33,102,172)"
            ],
            [
             1,
             "rgb(5,48,97)"
            ]
           ],
           "sequential": [
            [
             0,
             "#440154"
            ],
            [
             0.1111111111111111,
             "#482878"
            ],
            [
             0.2222222222222222,
             "#3e4989"
            ],
            [
             0.3333333333333333,
             "#31688e"
            ],
            [
             0.4444444444444444,
             "#26828e"
            ],
            [
             0.5555555555555556,
             "#1f9e89"
            ],
            [
             0.6666666666666666,
             "#35b779"
            ],
            [
             0.7777777777777778,
             "#6ece58"
            ],
            [
             0.8888888888888888,
             "#b5de2b"
            ],
            [
             1,
             "#fde725"
            ]
           ],
           "sequentialminus": [
            [
             0,
             "#440154"
            ],
            [
             0.1111111111111111,
             "#482878"
            ],
            [
             0.2222222222222222,
             "#3e4989"
            ],
            [
             0.3333333333333333,
             "#31688e"
            ],
            [
             0.4444444444444444,
             "#26828e"
            ],
            [
             0.5555555555555556,
             "#1f9e89"
            ],
            [
             0.6666666666666666,
             "#35b779"
            ],
            [
             0.7777777777777778,
             "#6ece58"
            ],
            [
             0.8888888888888888,
             "#b5de2b"
            ],
            [
             1,
             "#fde725"
            ]
           ]
          },
          "colorway": [
           "#1F77B4",
           "#FF7F0E",
           "#2CA02C",
           "#D62728",
           "#9467BD",
           "#8C564B",
           "#E377C2",
           "#7F7F7F",
           "#BCBD22",
           "#17BECF"
          ],
          "font": {
           "color": "rgb(36,36,36)"
          },
          "geo": {
           "bgcolor": "white",
           "lakecolor": "white",
           "landcolor": "white",
           "showlakes": true,
           "showland": true,
           "subunitcolor": "white"
          },
          "hoverlabel": {
           "align": "left"
          },
          "hovermode": "closest",
          "mapbox": {
           "style": "light"
          },
          "paper_bgcolor": "white",
          "plot_bgcolor": "white",
          "polar": {
           "angularaxis": {
            "gridcolor": "rgb(232,232,232)",
            "linecolor": "rgb(36,36,36)",
            "showgrid": false,
            "showline": true,
            "ticks": "outside"
           },
           "bgcolor": "white",
           "radialaxis": {
            "gridcolor": "rgb(232,232,232)",
            "linecolor": "rgb(36,36,36)",
            "showgrid": false,
            "showline": true,
            "ticks": "outside"
           }
          },
          "scene": {
           "xaxis": {
            "backgroundcolor": "white",
            "gridcolor": "rgb(232,232,232)",
            "gridwidth": 2,
            "linecolor": "rgb(36,36,36)",
            "showbackground": true,
            "showgrid": false,
            "showline": true,
            "ticks": "outside",
            "zeroline": false,
            "zerolinecolor": "rgb(36,36,36)"
           },
           "yaxis": {
            "backgroundcolor": "white",
            "gridcolor": "rgb(232,232,232)",
            "gridwidth": 2,
            "linecolor": "rgb(36,36,36)",
            "showbackground": true,
            "showgrid": false,
            "showline": true,
            "ticks": "outside",
            "zeroline": false,
            "zerolinecolor": "rgb(36,36,36)"
           },
           "zaxis": {
            "backgroundcolor": "white",
            "gridcolor": "rgb(232,232,232)",
            "gridwidth": 2,
            "linecolor": "rgb(36,36,36)",
            "showbackground": true,
            "showgrid": false,
            "showline": true,
            "ticks": "outside",
            "zeroline": false,
            "zerolinecolor": "rgb(36,36,36)"
           }
          },
          "shapedefaults": {
           "fillcolor": "black",
           "line": {
            "width": 0
           },
           "opacity": 0.3
          },
          "ternary": {
           "aaxis": {
            "gridcolor": "rgb(232,232,232)",
            "linecolor": "rgb(36,36,36)",
            "showgrid": false,
            "showline": true,
            "ticks": "outside"
           },
           "baxis": {
            "gridcolor": "rgb(232,232,232)",
            "linecolor": "rgb(36,36,36)",
            "showgrid": false,
            "showline": true,
            "ticks": "outside"
           },
           "bgcolor": "white",
           "caxis": {
            "gridcolor": "rgb(232,232,232)",
            "linecolor": "rgb(36,36,36)",
            "showgrid": false,
            "showline": true,
            "ticks": "outside"
           }
          },
          "title": {
           "x": 0.05
          },
          "xaxis": {
           "automargin": true,
           "gridcolor": "rgb(232,232,232)",
           "linecolor": "rgb(36,36,36)",
           "showgrid": false,
           "showline": true,
           "ticks": "outside",
           "title": {
            "standoff": 15
           },
           "zeroline": false,
           "zerolinecolor": "rgb(36,36,36)"
          },
          "yaxis": {
           "automargin": true,
           "gridcolor": "rgb(232,232,232)",
           "linecolor": "rgb(36,36,36)",
           "showgrid": false,
           "showline": true,
           "ticks": "outside",
           "title": {
            "standoff": 15
           },
           "zeroline": false,
           "zerolinecolor": "rgb(36,36,36)"
          }
         }
        },
        "title": {
         "automargin": false,
         "font": {
          "color": "black",
          "family": "Rockwell",
          "size": 18
         },
         "text": "<b>Correlação entre a porcentagem de passes certos e o número de gols marcados</b><br><i>Note que não há relação entre o número de passes certos e o número de gols marcados nas partidas</i>",
         "x": 0.007,
         "y": 0.95
        },
        "width": 750,
        "xaxis": {
         "anchor": "y",
         "domain": [
          0,
          1
         ],
         "tickfont": {
          "color": "black",
          "family": "Rockwell",
          "size": 15
         },
         "ticksuffix": "%",
         "title": {
          "font": {
           "color": "black",
           "family": "Rockwell",
           "size": 18
          },
          "text": "Passes Certos"
         }
        },
        "yaxis": {
         "anchor": "x",
         "domain": [
          0,
          1
         ],
         "showgrid": true,
         "tickfont": {
          "color": "black",
          "family": "Rockwell",
          "size": 15
         },
         "title": {
          "font": {
           "color": "black",
           "family": "Rockwell",
           "size": 18
          },
          "text": "Número de gols"
         }
        }
       }
      }
     },
     "metadata": {},
     "output_type": "display_data"
    }
   ],
   "source": [
    "fig = px.scatter(x=array_percent_passes_certos_each_match,y=array_number_goals_each_match,\n",
    "                 width=750,height=400,color_discrete_sequence=['#d80903'])\n",
    "\n",
    "fig.update_layout(title = dict(text= '<b>Correlação entre a porcentagem de passes certos e o número de gols marcados</b><br>' +\n",
    "                               '<i>Note que não há relação entre o número de passes certos e o número de gols marcados nas partidas</i>',\n",
    "                               automargin=False,\n",
    "                               font_size=18,\n",
    "                               font_family= \"Rockwell\",\n",
    "                               font_color='black',\n",
    "                               x=0.007,\n",
    "                               y=0.95\n",
    "                               ),template='simple_white',\n",
    "                               xaxis=dict(title='Passes Certos',title_font_family=\"Rockwell\",title_font_size=18,title_font_color='black',tickfont_family=\"Rockwell\",\n",
    "                                          tickfont_size=15,tickfont_color='black',ticksuffix='%'),\n",
    "                               yaxis=dict(title='Número de gols',title_font_family=\"Rockwell\",title_font_size=18,title_font_color='black',tickfont_family=\"Rockwell\",\n",
    "                                          tickfont_size=15,tickfont_color='black',showgrid=True),\n",
    "                               )\n",
    "fig.update_traces(marker_size=10)\n",
    "\n",
    "\n",
    "\n",
    "fig.show()"
   ]
  },
  {
   "cell_type": "markdown",
   "metadata": {},
   "source": [
    "Como pode ser observado no gráfico acima, não existe relação na porcentagem de passes certos e na quantidade de golsmarcados nas partidas.  \n",
    "Isso se deve ao fato de que no futebol, nem sempre o time que troca mais passes certos é o que vai marcar mais gols e sim o time que saber ser eficiente nao hora de uma oportunidade de gol.\n"
   ]
  },
  {
   "cell_type": "markdown",
   "metadata": {},
   "source": [
    "### Qual foi a distribuição de renda e púlico nos jogos do Flamengo como mandante e visitante ?"
   ]
  },
  {
   "cell_type": "code",
   "execution_count": 48,
   "metadata": {},
   "outputs": [
    {
     "data": {
      "application/vnd.plotly.v1+json": {
       "config": {
        "plotlyServerURL": "https://plot.ly"
       },
       "data": [
        {
         "fillcolor": "#d80903",
         "marker": {
          "color": "black"
         },
         "name": "Mandante",
         "showlegend": false,
         "text": "Média",
         "type": "box",
         "xaxis": "x",
         "y": [
          2486755,
          2880685,
          1996277.5,
          3616817.5,
          3669392.5,
          3678655,
          3625862.5,
          3964942.5,
          5001035,
          4812730,
          2949000,
          2268412.5,
          3407812.5,
          3559092.5,
          2553498,
          3248715,
          3041395,
          4039092.5,
          4167245
         ],
         "yaxis": "y"
        },
        {
         "fillcolor": "#121212",
         "marker": {
          "color": "#d80903"
         },
         "name": "Visitante",
         "type": "box",
         "xaxis": "x",
         "y": [
          2446749,
          1898030,
          1918299,
          2198881,
          492460,
          0,
          3148494.25,
          3593120.5,
          1004752.95,
          3889720,
          1548515,
          1512570,
          557310,
          2629857,
          1590985,
          1203794,
          7141239,
          4828278,
          2414279
         ],
         "yaxis": "y"
        },
        {
         "fillcolor": "#d80903",
         "marker": {
          "color": "black"
         },
         "name": "Mandante",
         "type": "box",
         "xaxis": "x2",
         "y": [
          43440,
          53138,
          44948,
          64871,
          65270,
          62967,
          64583,
          65402,
          62018,
          58892,
          20670,
          46472,
          69473,
          57699,
          49324,
          64590,
          64399,
          65305,
          63148
         ],
         "yaxis": "y2"
        },
        {
         "fillcolor": "#121212",
         "marker": {
          "color": "#d80903"
         },
         "name": "Visitante",
         "type": "box",
         "xaxis": "x2",
         "y": [
          45751,
          32015,
          47655,
          46423,
          10103,
          0,
          40229,
          62354,
          22441,
          33091,
          29527,
          40769,
          13799,
          40537,
          37073,
          20206,
          64708,
          39900,
          36618
         ],
         "yaxis": "y2"
        }
       ],
       "layout": {
        "annotations": [
         {
          "font": {
           "size": 16
          },
          "showarrow": false,
          "text": "<b>Distribuição de Renda",
          "x": 0.225,
          "xanchor": "center",
          "xref": "paper",
          "y": 1,
          "yanchor": "bottom",
          "yref": "paper"
         },
         {
          "font": {
           "size": 16
          },
          "showarrow": false,
          "text": "<b>Distribuição de Público",
          "x": 0.775,
          "xanchor": "center",
          "xref": "paper",
          "y": 1,
          "yanchor": "bottom",
          "yref": "paper"
         }
        ],
        "font": {
         "family": "Rockwell"
        },
        "showlegend": false,
        "template": {
         "data": {
          "bar": [
           {
            "error_x": {
             "color": "rgb(36,36,36)"
            },
            "error_y": {
             "color": "rgb(36,36,36)"
            },
            "marker": {
             "line": {
              "color": "white",
              "width": 0.5
             },
             "pattern": {
              "fillmode": "overlay",
              "size": 10,
              "solidity": 0.2
             }
            },
            "type": "bar"
           }
          ],
          "barpolar": [
           {
            "marker": {
             "line": {
              "color": "white",
              "width": 0.5
             },
             "pattern": {
              "fillmode": "overlay",
              "size": 10,
              "solidity": 0.2
             }
            },
            "type": "barpolar"
           }
          ],
          "carpet": [
           {
            "aaxis": {
             "endlinecolor": "rgb(36,36,36)",
             "gridcolor": "white",
             "linecolor": "white",
             "minorgridcolor": "white",
             "startlinecolor": "rgb(36,36,36)"
            },
            "baxis": {
             "endlinecolor": "rgb(36,36,36)",
             "gridcolor": "white",
             "linecolor": "white",
             "minorgridcolor": "white",
             "startlinecolor": "rgb(36,36,36)"
            },
            "type": "carpet"
           }
          ],
          "choropleth": [
           {
            "colorbar": {
             "outlinewidth": 1,
             "tickcolor": "rgb(36,36,36)",
             "ticks": "outside"
            },
            "type": "choropleth"
           }
          ],
          "contour": [
           {
            "colorbar": {
             "outlinewidth": 1,
             "tickcolor": "rgb(36,36,36)",
             "ticks": "outside"
            },
            "colorscale": [
             [
              0,
              "#440154"
             ],
             [
              0.1111111111111111,
              "#482878"
             ],
             [
              0.2222222222222222,
              "#3e4989"
             ],
             [
              0.3333333333333333,
              "#31688e"
             ],
             [
              0.4444444444444444,
              "#26828e"
             ],
             [
              0.5555555555555556,
              "#1f9e89"
             ],
             [
              0.6666666666666666,
              "#35b779"
             ],
             [
              0.7777777777777778,
              "#6ece58"
             ],
             [
              0.8888888888888888,
              "#b5de2b"
             ],
             [
              1,
              "#fde725"
             ]
            ],
            "type": "contour"
           }
          ],
          "contourcarpet": [
           {
            "colorbar": {
             "outlinewidth": 1,
             "tickcolor": "rgb(36,36,36)",
             "ticks": "outside"
            },
            "type": "contourcarpet"
           }
          ],
          "heatmap": [
           {
            "colorbar": {
             "outlinewidth": 1,
             "tickcolor": "rgb(36,36,36)",
             "ticks": "outside"
            },
            "colorscale": [
             [
              0,
              "#440154"
             ],
             [
              0.1111111111111111,
              "#482878"
             ],
             [
              0.2222222222222222,
              "#3e4989"
             ],
             [
              0.3333333333333333,
              "#31688e"
             ],
             [
              0.4444444444444444,
              "#26828e"
             ],
             [
              0.5555555555555556,
              "#1f9e89"
             ],
             [
              0.6666666666666666,
              "#35b779"
             ],
             [
              0.7777777777777778,
              "#6ece58"
             ],
             [
              0.8888888888888888,
              "#b5de2b"
             ],
             [
              1,
              "#fde725"
             ]
            ],
            "type": "heatmap"
           }
          ],
          "heatmapgl": [
           {
            "colorbar": {
             "outlinewidth": 1,
             "tickcolor": "rgb(36,36,36)",
             "ticks": "outside"
            },
            "colorscale": [
             [
              0,
              "#440154"
             ],
             [
              0.1111111111111111,
              "#482878"
             ],
             [
              0.2222222222222222,
              "#3e4989"
             ],
             [
              0.3333333333333333,
              "#31688e"
             ],
             [
              0.4444444444444444,
              "#26828e"
             ],
             [
              0.5555555555555556,
              "#1f9e89"
             ],
             [
              0.6666666666666666,
              "#35b779"
             ],
             [
              0.7777777777777778,
              "#6ece58"
             ],
             [
              0.8888888888888888,
              "#b5de2b"
             ],
             [
              1,
              "#fde725"
             ]
            ],
            "type": "heatmapgl"
           }
          ],
          "histogram": [
           {
            "marker": {
             "line": {
              "color": "white",
              "width": 0.6
             }
            },
            "type": "histogram"
           }
          ],
          "histogram2d": [
           {
            "colorbar": {
             "outlinewidth": 1,
             "tickcolor": "rgb(36,36,36)",
             "ticks": "outside"
            },
            "colorscale": [
             [
              0,
              "#440154"
             ],
             [
              0.1111111111111111,
              "#482878"
             ],
             [
              0.2222222222222222,
              "#3e4989"
             ],
             [
              0.3333333333333333,
              "#31688e"
             ],
             [
              0.4444444444444444,
              "#26828e"
             ],
             [
              0.5555555555555556,
              "#1f9e89"
             ],
             [
              0.6666666666666666,
              "#35b779"
             ],
             [
              0.7777777777777778,
              "#6ece58"
             ],
             [
              0.8888888888888888,
              "#b5de2b"
             ],
             [
              1,
              "#fde725"
             ]
            ],
            "type": "histogram2d"
           }
          ],
          "histogram2dcontour": [
           {
            "colorbar": {
             "outlinewidth": 1,
             "tickcolor": "rgb(36,36,36)",
             "ticks": "outside"
            },
            "colorscale": [
             [
              0,
              "#440154"
             ],
             [
              0.1111111111111111,
              "#482878"
             ],
             [
              0.2222222222222222,
              "#3e4989"
             ],
             [
              0.3333333333333333,
              "#31688e"
             ],
             [
              0.4444444444444444,
              "#26828e"
             ],
             [
              0.5555555555555556,
              "#1f9e89"
             ],
             [
              0.6666666666666666,
              "#35b779"
             ],
             [
              0.7777777777777778,
              "#6ece58"
             ],
             [
              0.8888888888888888,
              "#b5de2b"
             ],
             [
              1,
              "#fde725"
             ]
            ],
            "type": "histogram2dcontour"
           }
          ],
          "mesh3d": [
           {
            "colorbar": {
             "outlinewidth": 1,
             "tickcolor": "rgb(36,36,36)",
             "ticks": "outside"
            },
            "type": "mesh3d"
           }
          ],
          "parcoords": [
           {
            "line": {
             "colorbar": {
              "outlinewidth": 1,
              "tickcolor": "rgb(36,36,36)",
              "ticks": "outside"
             }
            },
            "type": "parcoords"
           }
          ],
          "pie": [
           {
            "automargin": true,
            "type": "pie"
           }
          ],
          "scatter": [
           {
            "fillpattern": {
             "fillmode": "overlay",
             "size": 10,
             "solidity": 0.2
            },
            "type": "scatter"
           }
          ],
          "scatter3d": [
           {
            "line": {
             "colorbar": {
              "outlinewidth": 1,
              "tickcolor": "rgb(36,36,36)",
              "ticks": "outside"
             }
            },
            "marker": {
             "colorbar": {
              "outlinewidth": 1,
              "tickcolor": "rgb(36,36,36)",
              "ticks": "outside"
             }
            },
            "type": "scatter3d"
           }
          ],
          "scattercarpet": [
           {
            "marker": {
             "colorbar": {
              "outlinewidth": 1,
              "tickcolor": "rgb(36,36,36)",
              "ticks": "outside"
             }
            },
            "type": "scattercarpet"
           }
          ],
          "scattergeo": [
           {
            "marker": {
             "colorbar": {
              "outlinewidth": 1,
              "tickcolor": "rgb(36,36,36)",
              "ticks": "outside"
             }
            },
            "type": "scattergeo"
           }
          ],
          "scattergl": [
           {
            "marker": {
             "colorbar": {
              "outlinewidth": 1,
              "tickcolor": "rgb(36,36,36)",
              "ticks": "outside"
             }
            },
            "type": "scattergl"
           }
          ],
          "scattermapbox": [
           {
            "marker": {
             "colorbar": {
              "outlinewidth": 1,
              "tickcolor": "rgb(36,36,36)",
              "ticks": "outside"
             }
            },
            "type": "scattermapbox"
           }
          ],
          "scatterpolar": [
           {
            "marker": {
             "colorbar": {
              "outlinewidth": 1,
              "tickcolor": "rgb(36,36,36)",
              "ticks": "outside"
             }
            },
            "type": "scatterpolar"
           }
          ],
          "scatterpolargl": [
           {
            "marker": {
             "colorbar": {
              "outlinewidth": 1,
              "tickcolor": "rgb(36,36,36)",
              "ticks": "outside"
             }
            },
            "type": "scatterpolargl"
           }
          ],
          "scatterternary": [
           {
            "marker": {
             "colorbar": {
              "outlinewidth": 1,
              "tickcolor": "rgb(36,36,36)",
              "ticks": "outside"
             }
            },
            "type": "scatterternary"
           }
          ],
          "surface": [
           {
            "colorbar": {
             "outlinewidth": 1,
             "tickcolor": "rgb(36,36,36)",
             "ticks": "outside"
            },
            "colorscale": [
             [
              0,
              "#440154"
             ],
             [
              0.1111111111111111,
              "#482878"
             ],
             [
              0.2222222222222222,
              "#3e4989"
             ],
             [
              0.3333333333333333,
              "#31688e"
             ],
             [
              0.4444444444444444,
              "#26828e"
             ],
             [
              0.5555555555555556,
              "#1f9e89"
             ],
             [
              0.6666666666666666,
              "#35b779"
             ],
             [
              0.7777777777777778,
              "#6ece58"
             ],
             [
              0.8888888888888888,
              "#b5de2b"
             ],
             [
              1,
              "#fde725"
             ]
            ],
            "type": "surface"
           }
          ],
          "table": [
           {
            "cells": {
             "fill": {
              "color": "rgb(237,237,237)"
             },
             "line": {
              "color": "white"
             }
            },
            "header": {
             "fill": {
              "color": "rgb(217,217,217)"
             },
             "line": {
              "color": "white"
             }
            },
            "type": "table"
           }
          ]
         },
         "layout": {
          "annotationdefaults": {
           "arrowhead": 0,
           "arrowwidth": 1
          },
          "autotypenumbers": "strict",
          "coloraxis": {
           "colorbar": {
            "outlinewidth": 1,
            "tickcolor": "rgb(36,36,36)",
            "ticks": "outside"
           }
          },
          "colorscale": {
           "diverging": [
            [
             0,
             "rgb(103,0,31)"
            ],
            [
             0.1,
             "rgb(178,24,43)"
            ],
            [
             0.2,
             "rgb(214,96,77)"
            ],
            [
             0.3,
             "rgb(244,165,130)"
            ],
            [
             0.4,
             "rgb(253,219,199)"
            ],
            [
             0.5,
             "rgb(247,247,247)"
            ],
            [
             0.6,
             "rgb(209,229,240)"
            ],
            [
             0.7,
             "rgb(146,197,222)"
            ],
            [
             0.8,
             "rgb(67,147,195)"
            ],
            [
             0.9,
             "rgb(33,102,172)"
            ],
            [
             1,
             "rgb(5,48,97)"
            ]
           ],
           "sequential": [
            [
             0,
             "#440154"
            ],
            [
             0.1111111111111111,
             "#482878"
            ],
            [
             0.2222222222222222,
             "#3e4989"
            ],
            [
             0.3333333333333333,
             "#31688e"
            ],
            [
             0.4444444444444444,
             "#26828e"
            ],
            [
             0.5555555555555556,
             "#1f9e89"
            ],
            [
             0.6666666666666666,
             "#35b779"
            ],
            [
             0.7777777777777778,
             "#6ece58"
            ],
            [
             0.8888888888888888,
             "#b5de2b"
            ],
            [
             1,
             "#fde725"
            ]
           ],
           "sequentialminus": [
            [
             0,
             "#440154"
            ],
            [
             0.1111111111111111,
             "#482878"
            ],
            [
             0.2222222222222222,
             "#3e4989"
            ],
            [
             0.3333333333333333,
             "#31688e"
            ],
            [
             0.4444444444444444,
             "#26828e"
            ],
            [
             0.5555555555555556,
             "#1f9e89"
            ],
            [
             0.6666666666666666,
             "#35b779"
            ],
            [
             0.7777777777777778,
             "#6ece58"
            ],
            [
             0.8888888888888888,
             "#b5de2b"
            ],
            [
             1,
             "#fde725"
            ]
           ]
          },
          "colorway": [
           "#1F77B4",
           "#FF7F0E",
           "#2CA02C",
           "#D62728",
           "#9467BD",
           "#8C564B",
           "#E377C2",
           "#7F7F7F",
           "#BCBD22",
           "#17BECF"
          ],
          "font": {
           "color": "rgb(36,36,36)"
          },
          "geo": {
           "bgcolor": "white",
           "lakecolor": "white",
           "landcolor": "white",
           "showlakes": true,
           "showland": true,
           "subunitcolor": "white"
          },
          "hoverlabel": {
           "align": "left"
          },
          "hovermode": "closest",
          "mapbox": {
           "style": "light"
          },
          "paper_bgcolor": "white",
          "plot_bgcolor": "white",
          "polar": {
           "angularaxis": {
            "gridcolor": "rgb(232,232,232)",
            "linecolor": "rgb(36,36,36)",
            "showgrid": false,
            "showline": true,
            "ticks": "outside"
           },
           "bgcolor": "white",
           "radialaxis": {
            "gridcolor": "rgb(232,232,232)",
            "linecolor": "rgb(36,36,36)",
            "showgrid": false,
            "showline": true,
            "ticks": "outside"
           }
          },
          "scene": {
           "xaxis": {
            "backgroundcolor": "white",
            "gridcolor": "rgb(232,232,232)",
            "gridwidth": 2,
            "linecolor": "rgb(36,36,36)",
            "showbackground": true,
            "showgrid": false,
            "showline": true,
            "ticks": "outside",
            "zeroline": false,
            "zerolinecolor": "rgb(36,36,36)"
           },
           "yaxis": {
            "backgroundcolor": "white",
            "gridcolor": "rgb(232,232,232)",
            "gridwidth": 2,
            "linecolor": "rgb(36,36,36)",
            "showbackground": true,
            "showgrid": false,
            "showline": true,
            "ticks": "outside",
            "zeroline": false,
            "zerolinecolor": "rgb(36,36,36)"
           },
           "zaxis": {
            "backgroundcolor": "white",
            "gridcolor": "rgb(232,232,232)",
            "gridwidth": 2,
            "linecolor": "rgb(36,36,36)",
            "showbackground": true,
            "showgrid": false,
            "showline": true,
            "ticks": "outside",
            "zeroline": false,
            "zerolinecolor": "rgb(36,36,36)"
           }
          },
          "shapedefaults": {
           "fillcolor": "black",
           "line": {
            "width": 0
           },
           "opacity": 0.3
          },
          "ternary": {
           "aaxis": {
            "gridcolor": "rgb(232,232,232)",
            "linecolor": "rgb(36,36,36)",
            "showgrid": false,
            "showline": true,
            "ticks": "outside"
           },
           "baxis": {
            "gridcolor": "rgb(232,232,232)",
            "linecolor": "rgb(36,36,36)",
            "showgrid": false,
            "showline": true,
            "ticks": "outside"
           },
           "bgcolor": "white",
           "caxis": {
            "gridcolor": "rgb(232,232,232)",
            "linecolor": "rgb(36,36,36)",
            "showgrid": false,
            "showline": true,
            "ticks": "outside"
           }
          },
          "title": {
           "x": 0.05
          },
          "xaxis": {
           "automargin": true,
           "gridcolor": "rgb(232,232,232)",
           "linecolor": "rgb(36,36,36)",
           "showgrid": false,
           "showline": true,
           "ticks": "outside",
           "title": {
            "standoff": 15
           },
           "zeroline": false,
           "zerolinecolor": "rgb(36,36,36)"
          },
          "yaxis": {
           "automargin": true,
           "gridcolor": "rgb(232,232,232)",
           "linecolor": "rgb(36,36,36)",
           "showgrid": false,
           "showline": true,
           "ticks": "outside",
           "title": {
            "standoff": 15
           },
           "zeroline": false,
           "zerolinecolor": "rgb(36,36,36)"
          }
         }
        },
        "title": {
         "font": {
          "color": "#121212",
          "family": "Rockwell"
         },
         "text": "<b>Distribuição da Renda e do Público nos jogos do Flamengo como mandante e visitante",
         "y": 0.96
        },
        "xaxis": {
         "anchor": "y",
         "domain": [
          0,
          0.45
         ],
         "linecolor": "silver",
         "tickfont": {
          "size": 15
         }
        },
        "xaxis2": {
         "anchor": "y2",
         "domain": [
          0.55,
          1
         ],
         "linecolor": "silver",
         "tickfont": {
          "size": 15
         }
        },
        "yaxis": {
         "anchor": "x",
         "domain": [
          0,
          1
         ],
         "linecolor": "silver",
         "showgrid": true,
         "tickfont": {
          "size": 15
         },
         "tickprefix": "R$ ",
         "title": {
          "text": "Renda"
         }
        },
        "yaxis2": {
         "anchor": "x2",
         "domain": [
          0,
          1
         ],
         "linecolor": "silver",
         "showgrid": true,
         "tickfont": {
          "size": 15
         },
         "title": {
          "text": "Público"
         }
        }
       }
      }
     },
     "metadata": {},
     "output_type": "display_data"
    }
   ],
   "source": [
    "fig  = make_subplots(rows=1,cols=2,subplot_titles=('<b>Distribuição de Renda','<b>Distribuição de Público'),)\n",
    "\n",
    "fig.add_trace(go.Box(y=flamengo_home['renda_jogo'],fillcolor='#d80903',marker_color='black',name='Mandante',text='Média',showlegend=False),row=1,col=1)\n",
    "fig.add_trace(go.Box(y=flamengo_away['renda_jogo'],fillcolor='#121212',marker_color='#d80903',name='Visitante'),row=1,col=1)\n",
    "\n",
    "fig.add_trace(go.Box(y=flamengo_home['publico_jogo'],fillcolor='#d80903',marker_color='black',name='Mandante'),row=1,col=2)\n",
    "fig.add_trace(go.Box(y=flamengo_away['publico_jogo'],fillcolor='#121212',marker_color='#d80903',name='Visitante'),row=1,col=2)\n",
    "\n",
    "\n",
    "fig.update_layout(showlegend=False,font_family='Rockwell',title=dict(text='<b>Distribuição da Renda e do Público nos jogos do Flamengo como mandante e visitante',\n",
    "                                              font_family='Rockwell',\n",
    "                                              font_color='#121212',\n",
    "                                              y=0.96,),\n",
    "                  template='simple_white',\n",
    "                  yaxis1=dict(showgrid=True,tickprefix='R$ ',title='Renda',tickfont_size=15,linecolor='silver'),\n",
    "                  yaxis2=dict(showgrid=True,title='Público',tickfont_size=15,linecolor='silver'),\n",
    "                  xaxis1 = dict(tickfont_size=15,linecolor='silver'),\n",
    "                  xaxis2 = dict(tickfont_size=15,linecolor='silver'),\n",
    "                  )\n",
    "\n",
    "\n",
    "fig.show()"
   ]
  },
  {
   "cell_type": "markdown",
   "metadata": {},
   "source": [
    "Olhando os gáficos acima pode-se chegar as seguintes conclusões:\n",
    "- Existe um outlier no limite superior na distribuição de renda quando o flamengo foi visitante e um outlier no limite inferior na distribuição de público quando o flamengo foi mandante. O primeiro outlier ocorreu no jogo entre Fortaleza X Flamengo válido pela rodada 32 no Castelão, já o segundo ocorreu no jogo entre Flamengo X Athletico Paranaense válido pela rodada 23 no Maracanã.\n",
    "- Fazendo uma pesquisa de o porque desse outlier do público ter sido muito baixo descobri que o jogo foi no Espírito Santo no estádio Kleber Andrade e não no Maracanã como diz o dataset, então está explicado porque o público foi baixo mesmo o Flamengo sendo mandante.\n",
    "- Observa-se também que a distribuição de renda e público com o Flamengo sendo mandante não há muita variação principalmente em público. "
   ]
  },
  {
   "cell_type": "markdown",
   "metadata": {},
   "source": [
    "### Como a quantidade de chutes certos do Flamengo se compara com a quantidade de gols marcados em casa e fora de casa?"
   ]
  },
  {
   "cell_type": "code",
   "execution_count": 41,
   "metadata": {},
   "outputs": [
    {
     "name": "stdout",
     "output_type": "stream",
     "text": [
      "Flamengo como mandante:\n",
      " - Quantidade de chutes certos na maioria das partidas: [4]\n",
      " - Quantidade de gols na maioria das partidas: [1]\n",
      " - Máximo de chutes certos: 13\n",
      " - Mínimo de chutes certos: 2 \n",
      "Flamengo como visitante:\n",
      " - Quantidade de chutes certos na maioria das partidas: [4]\n",
      " - Quantidade de gols na maioria das partidas: [0 2]\n",
      " - Máximo de chutes certos: 8\n",
      " - Mínimo de chutes certos: 0 \n"
     ]
    }
   ],
   "source": [
    "number_right_kicks_and_goals_scored_home = flamengo_home[['quant_chutes_certos_time_casa','placar_time_casa']]\n",
    "number_right_kicks_and_goals_scored_away = flamengo_away[['quant_chutes_certos_time_visitante','placar_time_visitante']]\n",
    "\n",
    "\n",
    "print(f'Flamengo como mandante:\\n - Quantidade de chutes certos na maioria das partidas: \\\n",
    "{number_right_kicks_and_goals_scored_home['quant_chutes_certos_time_casa'].mode().values}\\n \\\n",
    "- Quantidade de gols na maioria das partidas: {number_right_kicks_and_goals_scored_home['placar_time_casa'].mode().values}\\n \\\n",
    "- Máximo de chutes certos: {number_right_kicks_and_goals_scored_home['quant_chutes_certos_time_casa'].max()}\\n \\\n",
    "- Mínimo de chutes certos: {number_right_kicks_and_goals_scored_home['quant_chutes_certos_time_casa'].min()} ')\n",
    "\n",
    "print(f'Flamengo como visitante:\\n - Quantidade de chutes certos na maioria das partidas: \\\n",
    "{number_right_kicks_and_goals_scored_away['quant_chutes_certos_time_visitante'].mode().values}\\n \\\n",
    "- Quantidade de gols na maioria das partidas: {number_right_kicks_and_goals_scored_away['placar_time_visitante'].mode().values}\\n \\\n",
    "- Máximo de chutes certos: {number_right_kicks_and_goals_scored_away['quant_chutes_certos_time_visitante'].max()}\\n \\\n",
    "- Mínimo de chutes certos: {number_right_kicks_and_goals_scored_away['quant_chutes_certos_time_visitante'].min()} ')\n",
    "\n",
    "# fazer uma tabela mostrando a quantidade total de chutes e a quantidade de chutes certos\n"
   ]
  },
  {
   "cell_type": "markdown",
   "metadata": {},
   "source": [
    "- Pelos dados acima vemos que o time do Flamengo precisava dar pelo menos 4 chutes certos para marcar pelo menos um gol, o que mostra uma baixa eficiência em acertar o gol."
   ]
  },
  {
   "cell_type": "code",
   "execution_count": 62,
   "metadata": {},
   "outputs": [
    {
     "data": {
      "application/vnd.plotly.v1+json": {
       "config": {
        "plotlyServerURL": "https://plot.ly"
       },
       "data": [
        {
         "fillcolor": "#d80903",
         "marker": {
          "color": "black"
         },
         "name": "Mandante",
         "showlegend": false,
         "text": "Média",
         "type": "box",
         "y": [
          43,
          54,
          18,
          30,
          15,
          29,
          40,
          44,
          33,
          50,
          31,
          29,
          50,
          50,
          50,
          64,
          25,
          21,
          32
         ]
        },
        {
         "fillcolor": "#121212",
         "marker": {
          "color": "#d80903"
         },
         "name": "Visitante",
         "type": "box",
         "y": [
          25,
          23,
          23,
          45,
          0,
          40,
          40,
          38,
          83,
          40,
          19,
          33,
          20,
          35,
          13,
          50,
          71,
          33,
          20
         ]
        }
       ],
       "layout": {
        "font": {
         "family": "Rockwell"
        },
        "showlegend": false,
        "template": {
         "data": {
          "bar": [
           {
            "error_x": {
             "color": "rgb(36,36,36)"
            },
            "error_y": {
             "color": "rgb(36,36,36)"
            },
            "marker": {
             "line": {
              "color": "white",
              "width": 0.5
             },
             "pattern": {
              "fillmode": "overlay",
              "size": 10,
              "solidity": 0.2
             }
            },
            "type": "bar"
           }
          ],
          "barpolar": [
           {
            "marker": {
             "line": {
              "color": "white",
              "width": 0.5
             },
             "pattern": {
              "fillmode": "overlay",
              "size": 10,
              "solidity": 0.2
             }
            },
            "type": "barpolar"
           }
          ],
          "carpet": [
           {
            "aaxis": {
             "endlinecolor": "rgb(36,36,36)",
             "gridcolor": "white",
             "linecolor": "white",
             "minorgridcolor": "white",
             "startlinecolor": "rgb(36,36,36)"
            },
            "baxis": {
             "endlinecolor": "rgb(36,36,36)",
             "gridcolor": "white",
             "linecolor": "white",
             "minorgridcolor": "white",
             "startlinecolor": "rgb(36,36,36)"
            },
            "type": "carpet"
           }
          ],
          "choropleth": [
           {
            "colorbar": {
             "outlinewidth": 1,
             "tickcolor": "rgb(36,36,36)",
             "ticks": "outside"
            },
            "type": "choropleth"
           }
          ],
          "contour": [
           {
            "colorbar": {
             "outlinewidth": 1,
             "tickcolor": "rgb(36,36,36)",
             "ticks": "outside"
            },
            "colorscale": [
             [
              0,
              "#440154"
             ],
             [
              0.1111111111111111,
              "#482878"
             ],
             [
              0.2222222222222222,
              "#3e4989"
             ],
             [
              0.3333333333333333,
              "#31688e"
             ],
             [
              0.4444444444444444,
              "#26828e"
             ],
             [
              0.5555555555555556,
              "#1f9e89"
             ],
             [
              0.6666666666666666,
              "#35b779"
             ],
             [
              0.7777777777777778,
              "#6ece58"
             ],
             [
              0.8888888888888888,
              "#b5de2b"
             ],
             [
              1,
              "#fde725"
             ]
            ],
            "type": "contour"
           }
          ],
          "contourcarpet": [
           {
            "colorbar": {
             "outlinewidth": 1,
             "tickcolor": "rgb(36,36,36)",
             "ticks": "outside"
            },
            "type": "contourcarpet"
           }
          ],
          "heatmap": [
           {
            "colorbar": {
             "outlinewidth": 1,
             "tickcolor": "rgb(36,36,36)",
             "ticks": "outside"
            },
            "colorscale": [
             [
              0,
              "#440154"
             ],
             [
              0.1111111111111111,
              "#482878"
             ],
             [
              0.2222222222222222,
              "#3e4989"
             ],
             [
              0.3333333333333333,
              "#31688e"
             ],
             [
              0.4444444444444444,
              "#26828e"
             ],
             [
              0.5555555555555556,
              "#1f9e89"
             ],
             [
              0.6666666666666666,
              "#35b779"
             ],
             [
              0.7777777777777778,
              "#6ece58"
             ],
             [
              0.8888888888888888,
              "#b5de2b"
             ],
             [
              1,
              "#fde725"
             ]
            ],
            "type": "heatmap"
           }
          ],
          "heatmapgl": [
           {
            "colorbar": {
             "outlinewidth": 1,
             "tickcolor": "rgb(36,36,36)",
             "ticks": "outside"
            },
            "colorscale": [
             [
              0,
              "#440154"
             ],
             [
              0.1111111111111111,
              "#482878"
             ],
             [
              0.2222222222222222,
              "#3e4989"
             ],
             [
              0.3333333333333333,
              "#31688e"
             ],
             [
              0.4444444444444444,
              "#26828e"
             ],
             [
              0.5555555555555556,
              "#1f9e89"
             ],
             [
              0.6666666666666666,
              "#35b779"
             ],
             [
              0.7777777777777778,
              "#6ece58"
             ],
             [
              0.8888888888888888,
              "#b5de2b"
             ],
             [
              1,
              "#fde725"
             ]
            ],
            "type": "heatmapgl"
           }
          ],
          "histogram": [
           {
            "marker": {
             "line": {
              "color": "white",
              "width": 0.6
             }
            },
            "type": "histogram"
           }
          ],
          "histogram2d": [
           {
            "colorbar": {
             "outlinewidth": 1,
             "tickcolor": "rgb(36,36,36)",
             "ticks": "outside"
            },
            "colorscale": [
             [
              0,
              "#440154"
             ],
             [
              0.1111111111111111,
              "#482878"
             ],
             [
              0.2222222222222222,
              "#3e4989"
             ],
             [
              0.3333333333333333,
              "#31688e"
             ],
             [
              0.4444444444444444,
              "#26828e"
             ],
             [
              0.5555555555555556,
              "#1f9e89"
             ],
             [
              0.6666666666666666,
              "#35b779"
             ],
             [
              0.7777777777777778,
              "#6ece58"
             ],
             [
              0.8888888888888888,
              "#b5de2b"
             ],
             [
              1,
              "#fde725"
             ]
            ],
            "type": "histogram2d"
           }
          ],
          "histogram2dcontour": [
           {
            "colorbar": {
             "outlinewidth": 1,
             "tickcolor": "rgb(36,36,36)",
             "ticks": "outside"
            },
            "colorscale": [
             [
              0,
              "#440154"
             ],
             [
              0.1111111111111111,
              "#482878"
             ],
             [
              0.2222222222222222,
              "#3e4989"
             ],
             [
              0.3333333333333333,
              "#31688e"
             ],
             [
              0.4444444444444444,
              "#26828e"
             ],
             [
              0.5555555555555556,
              "#1f9e89"
             ],
             [
              0.6666666666666666,
              "#35b779"
             ],
             [
              0.7777777777777778,
              "#6ece58"
             ],
             [
              0.8888888888888888,
              "#b5de2b"
             ],
             [
              1,
              "#fde725"
             ]
            ],
            "type": "histogram2dcontour"
           }
          ],
          "mesh3d": [
           {
            "colorbar": {
             "outlinewidth": 1,
             "tickcolor": "rgb(36,36,36)",
             "ticks": "outside"
            },
            "type": "mesh3d"
           }
          ],
          "parcoords": [
           {
            "line": {
             "colorbar": {
              "outlinewidth": 1,
              "tickcolor": "rgb(36,36,36)",
              "ticks": "outside"
             }
            },
            "type": "parcoords"
           }
          ],
          "pie": [
           {
            "automargin": true,
            "type": "pie"
           }
          ],
          "scatter": [
           {
            "fillpattern": {
             "fillmode": "overlay",
             "size": 10,
             "solidity": 0.2
            },
            "type": "scatter"
           }
          ],
          "scatter3d": [
           {
            "line": {
             "colorbar": {
              "outlinewidth": 1,
              "tickcolor": "rgb(36,36,36)",
              "ticks": "outside"
             }
            },
            "marker": {
             "colorbar": {
              "outlinewidth": 1,
              "tickcolor": "rgb(36,36,36)",
              "ticks": "outside"
             }
            },
            "type": "scatter3d"
           }
          ],
          "scattercarpet": [
           {
            "marker": {
             "colorbar": {
              "outlinewidth": 1,
              "tickcolor": "rgb(36,36,36)",
              "ticks": "outside"
             }
            },
            "type": "scattercarpet"
           }
          ],
          "scattergeo": [
           {
            "marker": {
             "colorbar": {
              "outlinewidth": 1,
              "tickcolor": "rgb(36,36,36)",
              "ticks": "outside"
             }
            },
            "type": "scattergeo"
           }
          ],
          "scattergl": [
           {
            "marker": {
             "colorbar": {
              "outlinewidth": 1,
              "tickcolor": "rgb(36,36,36)",
              "ticks": "outside"
             }
            },
            "type": "scattergl"
           }
          ],
          "scattermapbox": [
           {
            "marker": {
             "colorbar": {
              "outlinewidth": 1,
              "tickcolor": "rgb(36,36,36)",
              "ticks": "outside"
             }
            },
            "type": "scattermapbox"
           }
          ],
          "scatterpolar": [
           {
            "marker": {
             "colorbar": {
              "outlinewidth": 1,
              "tickcolor": "rgb(36,36,36)",
              "ticks": "outside"
             }
            },
            "type": "scatterpolar"
           }
          ],
          "scatterpolargl": [
           {
            "marker": {
             "colorbar": {
              "outlinewidth": 1,
              "tickcolor": "rgb(36,36,36)",
              "ticks": "outside"
             }
            },
            "type": "scatterpolargl"
           }
          ],
          "scatterternary": [
           {
            "marker": {
             "colorbar": {
              "outlinewidth": 1,
              "tickcolor": "rgb(36,36,36)",
              "ticks": "outside"
             }
            },
            "type": "scatterternary"
           }
          ],
          "surface": [
           {
            "colorbar": {
             "outlinewidth": 1,
             "tickcolor": "rgb(36,36,36)",
             "ticks": "outside"
            },
            "colorscale": [
             [
              0,
              "#440154"
             ],
             [
              0.1111111111111111,
              "#482878"
             ],
             [
              0.2222222222222222,
              "#3e4989"
             ],
             [
              0.3333333333333333,
              "#31688e"
             ],
             [
              0.4444444444444444,
              "#26828e"
             ],
             [
              0.5555555555555556,
              "#1f9e89"
             ],
             [
              0.6666666666666666,
              "#35b779"
             ],
             [
              0.7777777777777778,
              "#6ece58"
             ],
             [
              0.8888888888888888,
              "#b5de2b"
             ],
             [
              1,
              "#fde725"
             ]
            ],
            "type": "surface"
           }
          ],
          "table": [
           {
            "cells": {
             "fill": {
              "color": "rgb(237,237,237)"
             },
             "line": {
              "color": "white"
             }
            },
            "header": {
             "fill": {
              "color": "rgb(217,217,217)"
             },
             "line": {
              "color": "white"
             }
            },
            "type": "table"
           }
          ]
         },
         "layout": {
          "annotationdefaults": {
           "arrowhead": 0,
           "arrowwidth": 1
          },
          "autotypenumbers": "strict",
          "coloraxis": {
           "colorbar": {
            "outlinewidth": 1,
            "tickcolor": "rgb(36,36,36)",
            "ticks": "outside"
           }
          },
          "colorscale": {
           "diverging": [
            [
             0,
             "rgb(103,0,31)"
            ],
            [
             0.1,
             "rgb(178,24,43)"
            ],
            [
             0.2,
             "rgb(214,96,77)"
            ],
            [
             0.3,
             "rgb(244,165,130)"
            ],
            [
             0.4,
             "rgb(253,219,199)"
            ],
            [
             0.5,
             "rgb(247,247,247)"
            ],
            [
             0.6,
             "rgb(209,229,240)"
            ],
            [
             0.7,
             "rgb(146,197,222)"
            ],
            [
             0.8,
             "rgb(67,147,195)"
            ],
            [
             0.9,
             "rgb(33,102,172)"
            ],
            [
             1,
             "rgb(5,48,97)"
            ]
           ],
           "sequential": [
            [
             0,
             "#440154"
            ],
            [
             0.1111111111111111,
             "#482878"
            ],
            [
             0.2222222222222222,
             "#3e4989"
            ],
            [
             0.3333333333333333,
             "#31688e"
            ],
            [
             0.4444444444444444,
             "#26828e"
            ],
            [
             0.5555555555555556,
             "#1f9e89"
            ],
            [
             0.6666666666666666,
             "#35b779"
            ],
            [
             0.7777777777777778,
             "#6ece58"
            ],
            [
             0.8888888888888888,
             "#b5de2b"
            ],
            [
             1,
             "#fde725"
            ]
           ],
           "sequentialminus": [
            [
             0,
             "#440154"
            ],
            [
             0.1111111111111111,
             "#482878"
            ],
            [
             0.2222222222222222,
             "#3e4989"
            ],
            [
             0.3333333333333333,
             "#31688e"
            ],
            [
             0.4444444444444444,
             "#26828e"
            ],
            [
             0.5555555555555556,
             "#1f9e89"
            ],
            [
             0.6666666666666666,
             "#35b779"
            ],
            [
             0.7777777777777778,
             "#6ece58"
            ],
            [
             0.8888888888888888,
             "#b5de2b"
            ],
            [
             1,
             "#fde725"
            ]
           ]
          },
          "colorway": [
           "#1F77B4",
           "#FF7F0E",
           "#2CA02C",
           "#D62728",
           "#9467BD",
           "#8C564B",
           "#E377C2",
           "#7F7F7F",
           "#BCBD22",
           "#17BECF"
          ],
          "font": {
           "color": "rgb(36,36,36)"
          },
          "geo": {
           "bgcolor": "white",
           "lakecolor": "white",
           "landcolor": "white",
           "showlakes": true,
           "showland": true,
           "subunitcolor": "white"
          },
          "hoverlabel": {
           "align": "left"
          },
          "hovermode": "closest",
          "mapbox": {
           "style": "light"
          },
          "paper_bgcolor": "white",
          "plot_bgcolor": "white",
          "polar": {
           "angularaxis": {
            "gridcolor": "rgb(232,232,232)",
            "linecolor": "rgb(36,36,36)",
            "showgrid": false,
            "showline": true,
            "ticks": "outside"
           },
           "bgcolor": "white",
           "radialaxis": {
            "gridcolor": "rgb(232,232,232)",
            "linecolor": "rgb(36,36,36)",
            "showgrid": false,
            "showline": true,
            "ticks": "outside"
           }
          },
          "scene": {
           "xaxis": {
            "backgroundcolor": "white",
            "gridcolor": "rgb(232,232,232)",
            "gridwidth": 2,
            "linecolor": "rgb(36,36,36)",
            "showbackground": true,
            "showgrid": false,
            "showline": true,
            "ticks": "outside",
            "zeroline": false,
            "zerolinecolor": "rgb(36,36,36)"
           },
           "yaxis": {
            "backgroundcolor": "white",
            "gridcolor": "rgb(232,232,232)",
            "gridwidth": 2,
            "linecolor": "rgb(36,36,36)",
            "showbackground": true,
            "showgrid": false,
            "showline": true,
            "ticks": "outside",
            "zeroline": false,
            "zerolinecolor": "rgb(36,36,36)"
           },
           "zaxis": {
            "backgroundcolor": "white",
            "gridcolor": "rgb(232,232,232)",
            "gridwidth": 2,
            "linecolor": "rgb(36,36,36)",
            "showbackground": true,
            "showgrid": false,
            "showline": true,
            "ticks": "outside",
            "zeroline": false,
            "zerolinecolor": "rgb(36,36,36)"
           }
          },
          "shapedefaults": {
           "fillcolor": "black",
           "line": {
            "width": 0
           },
           "opacity": 0.3
          },
          "ternary": {
           "aaxis": {
            "gridcolor": "rgb(232,232,232)",
            "linecolor": "rgb(36,36,36)",
            "showgrid": false,
            "showline": true,
            "ticks": "outside"
           },
           "baxis": {
            "gridcolor": "rgb(232,232,232)",
            "linecolor": "rgb(36,36,36)",
            "showgrid": false,
            "showline": true,
            "ticks": "outside"
           },
           "bgcolor": "white",
           "caxis": {
            "gridcolor": "rgb(232,232,232)",
            "linecolor": "rgb(36,36,36)",
            "showgrid": false,
            "showline": true,
            "ticks": "outside"
           }
          },
          "title": {
           "x": 0.05
          },
          "xaxis": {
           "automargin": true,
           "gridcolor": "rgb(232,232,232)",
           "linecolor": "rgb(36,36,36)",
           "showgrid": false,
           "showline": true,
           "ticks": "outside",
           "title": {
            "standoff": 15
           },
           "zeroline": false,
           "zerolinecolor": "rgb(36,36,36)"
          },
          "yaxis": {
           "automargin": true,
           "gridcolor": "rgb(232,232,232)",
           "linecolor": "rgb(36,36,36)",
           "showgrid": false,
           "showline": true,
           "ticks": "outside",
           "title": {
            "standoff": 15
           },
           "zeroline": false,
           "zerolinecolor": "rgb(36,36,36)"
          }
         }
        },
        "title": {
         "font": {
          "color": "#121212",
          "family": "Rockwell"
         },
         "text": "<b>Porcentagem de chutes certos do time do Flamengo como mandante e visitante</b><br><i>Como mandante, o Flamengo foi melhor em chutes certos, apesar de como visitante ter atingido <b>83%</b> de chutes certos, na rodada 17 no jogo Atlético Mineiro X Flamengo.",
         "y": 0.96
        },
        "xaxis": {
         "linecolor": "silver",
         "tickfont": {
          "size": 15
         }
        },
        "yaxis": {
         "linecolor": "silver",
         "showgrid": true,
         "tickfont": {
          "size": 15
         },
         "tickprefix": "% ",
         "title": {
          "text": "Chutes certos"
         }
        }
       }
      }
     },
     "metadata": {},
     "output_type": "display_data"
    }
   ],
   "source": [
    "fig = go.Figure()\n",
    "\n",
    "fig.add_trace(go.Box(y=flamengo_home['por_chutes_certos_time_casa'],fillcolor='#d80903',marker_color='black',name='Mandante',text='Média',showlegend=False))\n",
    "fig.add_trace(go.Box(y= flamengo_away['por_chutes_certos_time_visitante'],fillcolor='#121212',marker_color='#d80903',name='Visitante'))\n",
    "\n",
    "fig.update_layout(showlegend=False,font_family='Rockwell',title=dict(text='<b>Porcentagem de chutes certos do time do Flamengo como mandante e visitante</b><br>'+\n",
    "                                                                     '<i>Como mandante, o Flamengo foi melhor em chutes certos, apesar de como visitante ter atingido <b>83%</b> de'+ \n",
    "                                                                     ' chutes certos, na rodada 17 no jogo Atlético Mineiro X Flamengo.',\n",
    "                                              font_family='Rockwell',\n",
    "                                              font_color='#121212',\n",
    "                                              y=0.96,),\n",
    "                  template='simple_white',\n",
    "                  yaxis=dict(showgrid=True,tickprefix='% ',title='Chutes certos',tickfont_size=15,linecolor='silver'),\n",
    "                  xaxis = dict(tickfont_size=15,linecolor='silver'),\n",
    "                  )\n",
    "fig.show()"
   ]
  },
  {
   "cell_type": "markdown",
   "metadata": {},
   "source": [
    "### Qual foi o desempenho do Flamengo em relação a cartões amarelos e vermelhos? Houve algum jogador que recebeu muitos cartões?"
   ]
  },
  {
   "cell_type": "code",
   "execution_count": 100,
   "metadata": {},
   "outputs": [],
   "source": [
    "info_yellow_cards_home = flamengo_home['info_cartoes_amarelos']\n",
    "info_yellow_cards_away = flamengo_away['info_cartoes_amarelos']\n",
    "\n",
    "d = eval(info_yellow_cards_home[0])"
   ]
  },
  {
   "cell_type": "code",
   "execution_count": 106,
   "metadata": {},
   "outputs": [
    {
     "ename": "ValueError",
     "evalue": "invalid literal for int() with base 10: '17:00'",
     "output_type": "error",
     "traceback": [
      "\u001b[0;31m---------------------------------------------------------------------------\u001b[0m",
      "\u001b[0;31mValueError\u001b[0m                                Traceback (most recent call last)",
      "Cell \u001b[0;32mIn[106], line 2\u001b[0m\n\u001b[1;32m      1\u001b[0m s \u001b[38;5;241m=\u001b[39m \u001b[38;5;28meval\u001b[39m(d[\u001b[38;5;241m0\u001b[39m][\u001b[38;5;124m'\u001b[39m\u001b[38;5;124mtempo_cartao_amarelo\u001b[39m\u001b[38;5;124m'\u001b[39m])\n\u001b[0;32m----> 2\u001b[0m s[\u001b[38;5;241m0\u001b[39m] \u001b[38;5;241m=\u001b[39m \u001b[38;5;28;43mint\u001b[39;49m\u001b[43m(\u001b[49m\u001b[43ms\u001b[49m\u001b[43m[\u001b[49m\u001b[38;5;241;43m0\u001b[39;49m\u001b[43m]\u001b[49m\u001b[43m)\u001b[49m\n",
      "\u001b[0;31mValueError\u001b[0m: invalid literal for int() with base 10: '17:00'"
     ]
    }
   ],
   "source": []
  }
 ],
 "metadata": {
  "kernelspec": {
   "display_name": "flamengo_analysis_venv",
   "language": "python",
   "name": "python3"
  },
  "language_info": {
   "codemirror_mode": {
    "name": "ipython",
    "version": 3
   },
   "file_extension": ".py",
   "mimetype": "text/x-python",
   "name": "python",
   "nbconvert_exporter": "python",
   "pygments_lexer": "ipython3",
   "version": "3.12.2"
  }
 },
 "nbformat": 4,
 "nbformat_minor": 2
}
